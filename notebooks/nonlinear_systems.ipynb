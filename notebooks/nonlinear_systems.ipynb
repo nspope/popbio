{
 "cells": [
  {
   "cell_type": "code",
   "execution_count": null,
   "id": "differential-looking",
   "metadata": {},
   "outputs": [],
   "source": [
    "# setup\n",
    "import numpy as np\n",
    "import matplotlib\n",
    "import matplotlib.pyplot as plt\n",
    "from scipy import linalg\n",
    "plt.rcParams['figure.figsize'] = [7, 7]"
   ]
  },
  {
   "cell_type": "code",
   "execution_count": null,
   "id": "retained-colleague",
   "metadata": {},
   "outputs": [],
   "source": [
    "# from before\n",
    "def phase_plot(genfn, xlim, ylim, nx, ny, ax, scale=False, **kwargs):\n",
    "    X, Y = np.meshgrid(np.linspace(xlim[0], xlim[1], nx),\n",
    "                       np.linspace(ylim[0], ylim[1], ny))\n",
    "    X.shape = Y.shape = (np.prod(X.shape),)\n",
    "    U, V = genfn(X, Y, **kwargs)\n",
    "    if scale:\n",
    "        q = ax.quiver(X, Y, U-X, V-Y, angles='xy', scale_units='xy', scale=1)\n",
    "    else:\n",
    "        q = ax.quiver(X, Y, U-X, V-Y, angles='xy')\n",
    "    return q\n",
    "\n",
    "def run_sim_2d(N0, M0, gen_fn, ngens, dtype='int', **kwargs):\n",
    "    assert(len(N0) == len(M0))\n",
    "    N = np.empty((ngens, len(N0)), dtype=dtype)\n",
    "    N[0, :] = N0\n",
    "    M = np.empty((ngens, len(M0)), dtype=dtype)\n",
    "    M[0, :] = M0\n",
    "    for t in range(1, ngens):\n",
    "        N[t, :], M[t, :] = gen_fn(N[t-1, :], M[t-1, :], **kwargs)\n",
    "    return N, M\n"
   ]
  },
  {
   "cell_type": "markdown",
   "id": "legitimate-lending",
   "metadata": {},
   "source": [
    "# Application to nonlinear systems\n",
    "\n",
    "The theory above lets us analyze *nonlinear* systems by *linearizing* about fixed points.\n",
    "We'll do this in a simple **predator-prey** model:\n",
    "\n",
    "- $\\theta$ : prey immigration rate\n",
    "- $a$ : predator-prey contact (and consumption) rate\n",
    "- $\\epsilon$ : predator conversion efficiency\n",
    "- $\\delta$ : predator death rate\n",
    "\n",
    "The deterministic differential equations are\n",
    "$$\\begin{aligned}\n",
    "\\frac{d n_1}{dt} &= \\theta - a n_1 n_2 \\\\\n",
    "\\frac{d n_2}{dt} &= \\epsilon a n_1 n_2 - \\delta n_2 .\n",
    "\\end{aligned}$$\n",
    "\n",
    "**Exercise:** which is the prey and which is the predator?"
   ]
  },
  {
   "cell_type": "markdown",
   "id": "packed-tourism",
   "metadata": {},
   "source": [
    "**Exercise:** Make a more realistic story for how much prey each predator eats."
   ]
  },
  {
   "cell_type": "markdown",
   "id": "periodic-toronto",
   "metadata": {},
   "source": [
    "## Stable points\n",
    "\n",
    "To get stable points, we need to solve for when predator and prey numbers do not change.\n",
    "Predator numbers do not change if $dn_2/dt = 0$, i.e., if\n",
    "$$\n",
    "   n_2 (\\epsilon a n_1 - \\delta) = 0 .\n",
    "$$\n",
    "This happens if either $n_2 = 0$ (naturally),\n",
    "or if $n_1 = \\delta / (\\epsilon a)$.\n",
    "Prey numbers do not change if $dn_1/dt = 0$, i.e., if\n",
    "$$\n",
    "  n_2 = \\theta / (a n_1) .\n",
    "$$\n",
    "Putting this together, we have one equilibrium:\n",
    "$$\\begin{aligned}\n",
    "  n_1^* &= \\frac{\\delta}{\\epsilon a} \\\\\n",
    "  n_2^* &= \\frac{\\theta \\epsilon}{\\delta} .\n",
    "\\end{aligned}$$\n"
   ]
  },
  {
   "cell_type": "code",
   "execution_count": null,
   "id": "inclusive-egypt",
   "metadata": {},
   "outputs": [],
   "source": [
    "def pp_eqn(N, M, dt, theta, a, eps, delta):\n",
    "    next_N = N + dt * (theta - a * N * M)\n",
    "    next_M = M + dt * (eps * a * N * M - delta * M)\n",
    "    return next_N, next_M\n",
    "\n",
    "def pp_equil(theta, a, eps, delta):\n",
    "    return delta / (eps * a), theta * eps / delta\n",
    "\n",
    "pp_args = {'theta' : 40,\n",
    "           'a' : 0.1,\n",
    "           'eps' : 0.05,\n",
    "           'delta' : 0.3}\n",
    "equil = pp_equil(**pp_args)\n",
    "\n",
    "tN, tM = run_sim_2d([50], [50], pp_eqn, 200, dtype='float',\n",
    "                    dt=0.1, **pp_args)\n",
    "\n",
    "\n",
    "plt.rcParams['figure.figsize'] = [10, 10]\n",
    "fig, ax = plt.subplots()\n",
    "phase_plot(pp_eqn, xlim=[0, 70], ylim=[0, 70], nx=20, ny=20, scale=True,\n",
    "           ax=ax, dt=0.1, **pp_args)\n",
    "ax.plot(tN, tM)\n",
    "ax.scatter(tN, tM)\n",
    "ax.scatter(equil[0], equil[1], s=1000, c='g', alpha=0.5)\n",
    "ax.axis('equal')\n",
    "plt.xlabel(\"prey\")\n",
    "plt.ylabel(\"predators\");\n"
   ]
  },
  {
   "cell_type": "markdown",
   "id": "removed-orientation",
   "metadata": {},
   "source": [
    "### Local approximations\n",
    "\n",
    "Ok, so what's going on near that equilibrium?\n",
    "Let's reparameterize, so that $x_1$ is the deviation of numbers of prey from equilibrium,\n",
    "and $x_2$ is the deviation of the number of predators:\n",
    "$$\\begin{aligned}\n",
    "  n_1 &= n_1^* + x_1 \\\\\n",
    "  n_2 &= n_2^* + x_2\n",
    "\\end{aligned}$$\n",
    "The deterministic differential equations are, rewritten:\n",
    "$$\\begin{aligned}\n",
    "\\frac{d x_1}{dt} &= \\theta - a (n_1^* + x_1) (n_2^* + x_2) \\\\\n",
    "                 &= \\theta - a n_1^* n_2^* - a (n_1^* x_2 + x_1 n_2^* + x_1 x_2) \\\\\n",
    "                 &= - a (n_1^* x_2 + x_1 n_2^* + x_1 x_2) \\\\\n",
    "                 &\\approx - a (n_1^* x_2 + x_1 n_2^*) \\\\\n",
    "                 &= - \\frac{a \\epsilon \\theta }{ \\delta } x_1 - \\frac{ \\delta }{ \\epsilon } x_2 \\\\\n",
    "\\frac{d x_2}{dt} &= \\left(\\epsilon a (n_1^* + x_1) - \\delta \\right) (n_2^* + x_2) \\\\\n",
    "                 &= \\left(\\epsilon a n_1^* - \\delta\\right) n_2^* + \\epsilon a x_1 n_2^* - \\delta x_2 + a x_1 x_2 \\\\\n",
    "                 &\\approx \\left(\\epsilon a n_1^* - \\delta \\right) x_2 + \\epsilon a x_1 n_2^* \\\\\n",
    "                 &= \\frac{\\epsilon^2 a \\theta }{ \\delta} x_1 .\n",
    "\\end{aligned}$$\n",
    "The steps here are (1) use the fact that $(n_1^*, n_2^*)$ is an equilibrium (so some terms become zero),\n",
    "and (2) only keeping terms to *first order* in $x_1$ and $x_2$.\n",
    "\n",
    "This says that, if the system is near the nonzero equilibrium,\n",
    "it acts like the *linear* system whose matrix is\n",
    "$$\n",
    "  J = \\begin{bmatrix} \n",
    "    - \\frac{a \\epsilon \\theta }{ \\delta } & - \\frac{ \\delta }{ \\epsilon } \\\\\n",
    "     \\frac{\\epsilon^2 a \\theta }{ \\delta} & 0 \n",
    "   \\end{bmatrix}\n",
    "$$"
   ]
  },
  {
   "cell_type": "markdown",
   "id": "prime-beginning",
   "metadata": {},
   "source": [
    "i.e.,\n",
    "$$\n",
    "  \\frac{dx}{dt} = J x\n",
    "$$"
   ]
  },
  {
   "cell_type": "code",
   "execution_count": null,
   "id": "ae66e7d1",
   "metadata": {},
   "outputs": [],
   "source": [
    "def pp_approx_eqn(N, M, dt, theta, a, eps, delta):\n",
    "    equil = pp_equil(theta, a, eps, delta)\n",
    "    J = np.array([[- a * eps * theta / delta,     - delta / eps], \n",
    "                  [eps * eps * a * theta / delta, 0]])\n",
    "    old_X = N - equil[0]\n",
    "    old_Y = M - equil[1]\n",
    "    dX, dY = dt * J @ np.row_stack([old_X, old_Y])\n",
    "    next_N = N + dX\n",
    "    next_M = M + dY\n",
    "    return next_N, next_M"
   ]
  },
  {
   "cell_type": "code",
   "execution_count": null,
   "id": "8bf9c29c",
   "metadata": {},
   "outputs": [],
   "source": [
    "W = 2.0\n",
    "tN, tM = run_sim_2d([equil[0] + W], [equil[1] + W/8], pp_eqn, 200, dtype='float',\n",
    "                    dt=0.1, **pp_args)\n",
    "aN, aM = run_sim_2d([equil[0] + W], [equil[1] + W/8], pp_approx_eqn, 200, dtype='float',\n",
    "                    dt=0.1, **pp_args)\n",
    "\n",
    "plt.rcParams['figure.figsize'] = [10, 10]\n",
    "fig, ax = plt.subplots()\n",
    "phase_plot(pp_eqn, xlim=[equil[0] - W, equil[0] + W], \n",
    "           ax=ax, ylim=[equil[1] - W, equil[1] + W], nx=20, ny=20, scale=True,\n",
    "           dt=0.1, **pp_args)\n",
    "q = phase_plot(pp_approx_eqn, xlim=[equil[0] - W, equil[0] + W], \n",
    "               ax=ax, ylim=[equil[1] - W, equil[1] + W], nx=20, ny=20, scale=False,\n",
    "               dt=0.1, **pp_args)\n",
    "q.set(color = 'm')\n",
    "ax = fig.gca()\n",
    "ax.plot(tN, tM)\n",
    "ax.scatter(tN, tM)\n",
    "ax.plot(aN, aM)\n",
    "ax.scatter(aN, aM)\n",
    "ax.scatter(equil[0], equil[1], s=1000, c='g', alpha=0.5)\n",
    "ax.axis('equal')\n",
    "plt.xlabel(\"prey\")\n",
    "plt.ylabel(\"predators\");"
   ]
  },
  {
   "cell_type": "markdown",
   "id": "f69376aa",
   "metadata": {},
   "source": [
    "Here's a different set of parameters:"
   ]
  },
  {
   "cell_type": "code",
   "execution_count": null,
   "id": "immune-barrier",
   "metadata": {},
   "outputs": [],
   "source": [
    "pp_args2 = {'theta' : 10,\n",
    "           'a' : 0.1,\n",
    "           'eps' : 1.0,\n",
    "           'delta' : 0.3}\n",
    "equil = pp_equil(**pp_args2)\n",
    "\n",
    "W = 3.0\n",
    "tN, tM = run_sim_2d([equil[0] + W], [equil[1]], pp_eqn, 200, dtype='float',\n",
    "                    dt=0.1, **pp_args2)\n",
    "aN, aM = run_sim_2d([equil[0] + W], [equil[1]], pp_approx_eqn, 200, dtype='float',\n",
    "                    dt=0.1, **pp_args2)\n",
    "\n",
    "plt.rcParams['figure.figsize'] = [10, 10]\n",
    "fig, ax = plt.subplots()\n",
    "phase_plot(pp_eqn, xlim=[equil[0] - W, equil[0] + W], \n",
    "           ax=ax, ylim=[equil[1] - W, equil[1] + W], nx=20, ny=20, scale=True,\n",
    "           dt=0.1, **pp_args2)\n",
    "q = phase_plot(pp_approx_eqn, xlim=[equil[0] - W, equil[0] + W], \n",
    "               ax=ax, ylim=[equil[1] - W, equil[1] + W], nx=20, ny=20, scale=False,\n",
    "               dt=0.1, **pp_args2)\n",
    "q.set(color = 'm')\n",
    "ax = fig.gca()\n",
    "ax.plot(tN, tM)\n",
    "ax.scatter(tN, tM)\n",
    "ax.plot(aN, aM)\n",
    "ax.scatter(aN, aM)\n",
    "ax.scatter(equil[0], equil[1], s=1000, c='g', alpha=0.5)\n",
    "ax.axis('equal')\n",
    "plt.xlabel(\"prey\")\n",
    "plt.ylabel(\"predators\");"
   ]
  },
  {
   "cell_type": "markdown",
   "id": "plastic-apple",
   "metadata": {},
   "source": [
    "## Stability analysis\n",
    "\n",
    "Let's see now how the eigenvalues of $J$ change as we adjust $\\delta$.\n",
    "\n",
    "- If all eigenvalues have negative Real part, the equilibrium is a *sink*.\n",
    "- If any eigenvalues have nonzero Imaginary part, the equilibrium has an oscillatory component."
   ]
  },
  {
   "cell_type": "code",
   "execution_count": null,
   "id": "requested-frost",
   "metadata": {},
   "outputs": [],
   "source": [
    "def pp_eigs(theta, a, eps, delta):\n",
    "    J = np.array([[-a * eps * theta / delta, - delta / eps], [eps * eps * a * theta / delta, 0]])\n",
    "    evals, evecs = linalg.eig(J)\n",
    "    return evals\n",
    "\n",
    "\n",
    "pp_args = {'theta' : 40,\n",
    "           'a' : 0.1,\n",
    "           'eps' : 0.5,\n",
    "           'delta' : 0.3}\n",
    "\n",
    "dvals = np.linspace(0.3, 2.0, 400)\n",
    "J_eigs = np.array([pp_eigs(pp_args['theta'], pp_args['a'], pp_args['eps'], delta)\n",
    "                   for delta in dvals])\n",
    "\n",
    "fig, ax = plt.subplots()\n",
    "ax.plot(np.real(J_eigs[:, 0]), np.imag(J_eigs[:, 0]))\n",
    "sc = ax.scatter(np.real(J_eigs[:, 0]), np.imag(J_eigs[:, 0]), \n",
    "                c=dvals, cmap=matplotlib.cm.jet, label='delta')\n",
    "ax.plot(np.real(J_eigs[:, 1]), np.imag(J_eigs[:, 1]))\n",
    "\n",
    "sc = ax.scatter(np.real(J_eigs[:, 1]), np.imag(J_eigs[:, 1]), \n",
    "                c=dvals, cmap=matplotlib.cm.jet, label='delta')\n",
    "fig.colorbar(sc)\n",
    "plt.xlabel(\"Real(evalue)\")\n",
    "plt.ylabel(\"Imag(evalue)\");"
   ]
  },
  {
   "cell_type": "code",
   "execution_count": null,
   "id": "2f6ce7ae",
   "metadata": {},
   "outputs": [],
   "source": [
    "print(pp_args)\n",
    "pp_eigs(**pp_args)"
   ]
  },
  {
   "cell_type": "markdown",
   "id": "domestic-giving",
   "metadata": {},
   "source": [
    "**Ah-ha:** there is some value of $\\delta$ at which point the two eigenvalues hit each other,\n",
    "then move off in the imaginary axis!  For $\\delta$ above that point,\n",
    "the system should oscillate as it converges."
   ]
  },
  {
   "cell_type": "markdown",
   "id": "confirmed-creature",
   "metadata": {},
   "source": [
    "## Stable cycles!\n",
    "\n",
    "Find the value of $\\delta$ at which the top eigenvalue of $J$ leaves the real line, and check that the system oscillates above it, and not below."
   ]
  },
  {
   "cell_type": "code",
   "execution_count": null,
   "id": "individual-color",
   "metadata": {},
   "outputs": [],
   "source": [
    "# This should oscillate\n",
    "\n",
    "pp_args3 = {'theta' : 10,\n",
    "           'a' : 0.1,\n",
    "           'eps' : 1.0,\n",
    "           'delta' : 1.95}\n",
    "equil = pp_equil(**pp_args3)\n",
    "\n",
    "W = 2.0\n",
    "tN, tM = run_sim_2d([equil[0] + W], [equil[1]], pp_eqn, 200, dtype='float',\n",
    "                    dt=0.1, **pp_args3)\n",
    "aN, aM = run_sim_2d([equil[0] + W], [equil[1]], pp_approx_eqn, 200, dtype='float',\n",
    "                    dt=0.1, **pp_args3)\n",
    "\n",
    "plt.rcParams['figure.figsize'] = [10, 10]\n",
    "fig, ax = plt.subplots()\n",
    "phase_plot(pp_eqn, xlim=[equil[0] - W, equil[0] + W], \n",
    "           ax=ax, ylim=[equil[1] - W, equil[1] + W], nx=20, ny=20, scale=True,\n",
    "           dt=0.1, **pp_args3)\n",
    "q = phase_plot(pp_approx_eqn, xlim=[equil[0] - W, equil[0] + W], \n",
    "               ax=ax, ylim=[equil[1] - W, equil[1] + W], nx=20, ny=20, scale=False,\n",
    "               dt=0.1, **pp_args3)\n",
    "q.set(color = 'm')\n",
    "ax = fig.gca()\n",
    "ax.plot(tN, tM)\n",
    "ax.scatter(tN, tM)\n",
    "ax.plot(aN, aM)\n",
    "ax.scatter(aN, aM)\n",
    "ax.scatter(equil[0], equil[1], s=1000, c='g', alpha=0.5)\n",
    "ax.axis('equal')\n",
    "plt.xlabel(\"prey\")\n",
    "plt.ylabel(\"predators\");\n"
   ]
  },
  {
   "cell_type": "markdown",
   "id": "e204f209-7ca0-49ba-a7e0-237591fa32ab",
   "metadata": {},
   "source": [
    "# Homework\n",
    "\n",
    "Install [SLiM](https://messerlab.org/slim) (including the GUI!)."
   ]
  }
 ],
 "metadata": {
  "kernelspec": {
   "display_name": "Python 3 (ipykernel)",
   "language": "python",
   "name": "python3"
  },
  "language_info": {
   "codemirror_mode": {
    "name": "ipython",
    "version": 3
   },
   "file_extension": ".py",
   "mimetype": "text/x-python",
   "name": "python",
   "nbconvert_exporter": "python",
   "pygments_lexer": "ipython3",
   "version": "3.11.2"
  }
 },
 "nbformat": 4,
 "nbformat_minor": 5
}

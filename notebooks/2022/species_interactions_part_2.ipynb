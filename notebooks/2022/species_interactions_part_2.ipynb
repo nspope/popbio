{
 "cells": [
  {
   "cell_type": "code",
   "execution_count": 2,
   "id": "802d691d",
   "metadata": {},
   "outputs": [],
   "source": [
    "# setup\n",
    "import numpy as np\n",
    "import matplotlib\n",
    "import matplotlib.pyplot as plt\n",
    "import scipy\n",
    "import scipy.integrate"
   ]
  },
  {
   "cell_type": "code",
   "execution_count": 4,
   "id": "5b96d9ef",
   "metadata": {},
   "outputs": [],
   "source": [
    "def run_sim_2d(N0, M0, gen_fn, ngens, dtype='int', **kwargs):\n",
    "    assert(len(N0) == len(M0))\n",
    "    N = np.empty((ngens, len(N0)), dtype=dtype)\n",
    "    N[0, :] = N0\n",
    "    M = np.empty((ngens, len(M0)), dtype=dtype)\n",
    "    M[0, :] = M0\n",
    "    for t in range(1, ngens):\n",
    "        N[t, :], M[t, :] = gen_fn(N[t-1, :], M[t-1, :], **kwargs)\n",
    "    return N, M\n"
   ]
  },
  {
   "cell_type": "markdown",
   "id": "6057706b",
   "metadata": {},
   "source": [
    "# Species interactions, with linear algebra"
   ]
  },
  {
   "cell_type": "markdown",
   "id": "2f04e468",
   "metadata": {},
   "source": [
    "Let's go back to our Lotka-Volterra-like model,\n",
    "with deterministic equations:\n",
    "\n",
    "$$\\begin{aligned}\n",
    "  \\mathbb{E}[N_{t+1} | N_t = N, M_t = M]\n",
    "      &= F(N, M) \\\\\n",
    "      &= N (1 - p_0) + p_0 N \\lambda_0 \\exp(- (N + a_0 M)/K_0) \\\\\n",
    "  \\mathbb{E}[M_{t+1} | N_t = N, M_t = M]\n",
    "      &= G(N, M) \\\\\n",
    "      &= M (1 - p_1) + p_1 M \\lambda_1 \\exp(- (M + a_1 N)/K_1) .\n",
    "\\end{aligned}$$\n",
    "\n",
    "which has an equilibrium at\n",
    "$$\\begin{aligned}\n",
    "  N_* &= \\frac{K_0 \\log(\\lambda_0) - a_0 K_1 \\log(\\lambda_1)}{1 - a_0 a_1} \\\\\n",
    "  M_* &= \\frac{K_1 \\log(\\lambda_1) - a_1 K_0 \\log(\\lambda_0)}{1 - a_0 a_1} .\n",
    "\\end{aligned}$$"
   ]
  },
  {
   "cell_type": "markdown",
   "id": "9431d486",
   "metadata": {},
   "source": [
    "We'd like to *linearize* about this fixed point\n",
    "and use what we learned about linear algebra\n",
    "to figure out what this model does there.\n",
    "\n",
    "Then, we know that $F(N_*, M_*) - N_* = G(N_*, M_*) - M_* = 0$,\n",
    "and hence that\n",
    "$$\n",
    "    \\frac{1 - p_0}{p_0 \\lambda_0} = \\exp(-(N_* + a_0 M_*) / K_0) ,\n",
    "$$\n",
    "a fact that will come in handy in a minute.\n",
    "\n",
    "We'd like to find the eigenvalues of the 2x2 matrix\n",
    "$$\\begin{aligned}\n",
    "A\n",
    "=\n",
    "\\begin{bmatrix}\n",
    "\\frac{dF}{dN}(N_*, M_*) - 1 & \\frac{dF}{dM}(N_*, M_*) \\\\\n",
    "\\frac{dG}{dN}(N_*, M_*) & \\frac{dG}{dM}(N_*, M_*) - 1\n",
    "\\end{bmatrix}\n",
    "\\end{aligned}$$\n",
    "The first entry in this matrix is, using the identity above:\n",
    "\n",
    "$$\\begin{aligned}\n",
    "  \\frac{dF}{dN}(N_*, M_*)\n",
    "  &=\n",
    "  (1 - p_0) + p_0 \\lambda_0 \\left( 1 - \\frac{N_*}{K_0} \\right) \\exp\\left(-\\frac{N_* + a_0 M_*}{K_0}\\right) \\\\\n",
    "  &= \n",
    "  (1 - p_0)\\left( 2 - \\frac{N_*}{K_0} \\right)  - 1.\n",
    "\\end{aligned}$$\n",
    "\n",
    "The second entry is:\n",
    "\n",
    "$$\\begin{aligned}\n",
    "  \\frac{dF}{dM}(N_*, M_*)\n",
    "  &=\n",
    "  a_0 p_0 \\lambda_0 \\frac{N_*}{K_0} \\exp\\left(-\\frac{N_* + a_0 M_*}{K_0}\\right) \\\\\n",
    "  &= \n",
    "  a_0 (1 - p_0)\\frac{N_*}{K_0} .\n",
    "\\end{aligned}$$\n",
    "\n",
    "So, by symmetry,\n",
    "$$\\begin{aligned}\n",
    "A\n",
    "=\n",
    "\\begin{bmatrix}\n",
    "  (1 - p_0)\\left( 2 - \\frac{N_*}{K_0} \\right)  - 1\n",
    "  &\n",
    "    a_0 (1 - p_0)\\frac{N_*}{K_0} \n",
    "    \\\\\n",
    "    a_1 (1 - p_1)\\frac{M_*}{K_1} \n",
    "  &\n",
    "  (1 - p_1)\\left( 2 - \\frac{M_*}{K_1} \\right)  - 1\n",
    "\\end{bmatrix} .\n",
    "\\end{aligned}$$"
   ]
  },
  {
   "cell_type": "markdown",
   "id": "f44d8929",
   "metadata": {},
   "source": [
    "That will tell us about stability at $(N_*, M_*)$.\n",
    "However, we also need to know about stability at the other fixed points:\n",
    "let's call them $(N_\\dagger, 0)$ and $(0, M_\\dagger)$.\n",
    "\n",
    "These are (again from the previous document):\n",
    "$$\\begin{aligned}\n",
    "N_\\dagger &= K_0 \\log \\lambda_0 \\\\\n",
    "M_\\dagger &= K_1 \\log \\lambda_1\n",
    "\\end{aligned}$$\n",
    "and here we have\n",
    "$$\\begin{aligned}\n",
    "A_\\dagger\n",
    "&=\n",
    "\\begin{bmatrix}\n",
    "  (1 - p_0)\\left( 2 - \\frac{N_\\dagger}{K_0} \\right)  - 1\n",
    "  &\n",
    "    a_0 (1 - p_0)\\frac{N_\\dagger}{K_0} \n",
    "    \\\\\n",
    "    a_1 (1 - p_1)\\frac{M_\\dagger}{K_1} \n",
    "  &\n",
    "  (1 - p_1)\\left( 2 - \\frac{M_\\dagger}{K_1} \\right)  - 1\n",
    "\\end{bmatrix} \\\\\n",
    "&=\n",
    "\\begin{bmatrix}\n",
    "  (1 - p_0)\\left( 2 - \\log \\lambda_0 \\right)  - 1\n",
    "  &\n",
    "    a_0 (1 - p_0)\\log \\lambda_0\n",
    "    \\\\\n",
    "    a_1 (1 - p_1)\\log \\lambda_1\n",
    "  &\n",
    "  (1 - p_1)\\left( 2 - \\log \\lambda_1 \\right)  - 1\n",
    "\\end{bmatrix}\n",
    "\\end{aligned}$$"
   ]
  },
  {
   "cell_type": "code",
   "execution_count": 60,
   "id": "fea74119",
   "metadata": {},
   "outputs": [],
   "source": [
    "def lv_equil(lam, p, K, a):\n",
    "    return np.array([K[0] * np.log(lam[0]) - a[0] * K[1] * np.log(lam[1]),\n",
    "                     K[1] * np.log(lam[1]) - a[1] * K[0] * np.log(lam[0])]) / (1 - a[0] * a[1])\n",
    "\n",
    "def lv_Amat(lam, p, K, a):\n",
    "    equil = lv_equil(lam, p, K, a)\n",
    "    return (\n",
    "        np.array([\n",
    "            [\n",
    "                (1 - p[0]) * (2 - equil[0] / K[0]) - 1,\n",
    "                a[0] * (1 - p[0]) * equil[0] / K[0]\n",
    "            ],\n",
    "            [\n",
    "                (1 - p[1]) * (2 - equil[1] / K[1]) - 1,\n",
    "                a[1] * (1 - p[1]) * equil[1] / K[1]\n",
    "            ],\n",
    "            ]),\n",
    "        np.array([\n",
    "            [\n",
    "                (1 - p[0]) * (2 - np.log(lam[0])) - 1,\n",
    "                a[0] * (1 - p[0]) * np.log(lam[0])\n",
    "            ],\n",
    "            [\n",
    "                (1 - p[1]) * (2 - np.log(lam[1])) - 1,\n",
    "                a[1] * (1 - p[1]) * np.log(lam[1])\n",
    "            ],                \n",
    "        ])\n",
    "    )"
   ]
  },
  {
   "cell_type": "code",
   "execution_count": 73,
   "id": "c9645f70",
   "metadata": {},
   "outputs": [
    {
     "data": {
      "image/png": "[encoded data removed]",
      "text/plain": [
       "<Figure size 432x288 with 1 Axes>"
      ]
     },
     "metadata": {
      "needs_background": "light"
     },
     "output_type": "display_data"
    }
   ],
   "source": [
    "lv_args = {\n",
    "        'lam' : [1.2 * 0.9, 0.9],    # fecundity\n",
    "        'p' : [0.5 * 0.9, 0.9 * 0.9],      # survival prob\n",
    "        'K' : [2000, 5000],      # carrying capacity\n",
    "        'a' : [-0.6, -1.5]  # encounter rate\n",
    "    }\n",
    "\n",
    "xvals = np.linspace(-1, 1, 101)\n",
    "eee = np.zeros(len(xvals), dtype=\"complex\")\n",
    "eed = np.zeros(len(xvals), dtype=\"complex\")\n",
    "for j, x in enumerate(xvals):\n",
    "    args = lv_args.copy()\n",
    "    args['a'] = [y * x for y in lv_args[\"a\"]]\n",
    "    A, Ad = lv_Amat(**args)\n",
    "    evals, _ = np.linalg.eig(A)\n",
    "    eee[j] = evals[0]\n",
    "    evals, _ = np.linalg.eig(Ad)\n",
    "    eed[j] = evals[0]\n",
    "\n",
    "fig, ax = plt.subplots()\n",
    "ax.plot(xvals, np.real(eee), label=\"Re(A))\")\n",
    "ax.plot(xvals, np.imag(eee), label=\"Im(A)\")\n",
    "ax.plot(xvals, np.real(eed), label=\"Re(Ad)\")\n",
    "ax.plot(xvals, np.imag(eed), label=\"Im(Ad)\")\n",
    "ax.legend();"
   ]
  },
  {
   "cell_type": "code",
   "execution_count": 39,
   "id": "682fd0c3",
   "metadata": {},
   "outputs": [],
   "source": [
    "del pvals\n",
    "del lvals"
   ]
  },
  {
   "cell_type": "code",
   "execution_count": 86,
   "id": "ea105cc0",
   "metadata": {},
   "outputs": [
    {
     "data": {
      "image/png": "[encoded data removed]",
      "text/plain": [
       "<Figure size 432x288 with 1 Axes>"
      ]
     },
     "metadata": {
      "needs_background": "light"
     },
     "output_type": "display_data"
    }
   ],
   "source": [
    "def lv_eqn(N, M, lam, p, K, a):\n",
    "    # this is F and G, the deterministic equations\n",
    "    next_N = N + p[0] * N * (lam[0] * np.exp(-(N + a[0] * M)/K[0]) - 1)\n",
    "    next_M = M + p[1] * M * (lam[1] * np.exp(-(M + a[1] * N)/K[1]) - 1)\n",
    "    return next_N, next_M\n",
    "\n",
    "def lv_gen(N, M, lam, p, K, a):\n",
    "    # this is simulating as described above\n",
    "    assert(len(M) == len(N))\n",
    "    N_dies = np.random.binomial(N, p[0])\n",
    "    M_dies = np.random.binomial(M, p[1])\n",
    "    N_repro = np.random.poisson(N_dies * lam[0] * np.exp(-((N + a[0]*M)/K[0])))\n",
    "    M_repro = np.random.poisson(M_dies * lam[1] * np.exp(-((M + a[1]*N)/K[1])))\n",
    "    next_N = N - N_dies + N_repro\n",
    "    next_M = M - M_dies + M_repro\n",
    "    return next_N, next_M\n",
    "\n",
    "lv_args = {\n",
    "        'lam' : [1.2 * 0.9, 0.95],    # fecundity\n",
    "        'p' : [0.5, 0.9],      # survival prob\n",
    "        'K' : [50000, 50000],      # carrying capacity\n",
    "        'a' : [-0.6, -1.5]  # encounter rate\n",
    "    }\n",
    "\n",
    "# random simulation\n",
    "N, M = run_sim_2d([500], [100], lv_gen, 1200, dtype='int',\n",
    "                    **lv_args)\n",
    "# deterministic\n",
    "tN, tM = run_sim_2d([500], [100], lv_eqn, 1200, dtype='float',\n",
    "                    **lv_args)\n",
    "\n",
    "fig, ax = plt.subplots()\n",
    "ax.plot(np.column_stack([N, M]), label=[\"type 0\", \"type 1\"])\n",
    "ax.plot(np.column_stack([tN, tM]), linestyle=\"--\")\n",
    "ax.legend();"
   ]
  }
 ],
 "metadata": {
  "kernelspec": {
   "display_name": "Python 3 (ipykernel)",
   "language": "python",
   "name": "python3"
  },
  "language_info": {
   "codemirror_mode": {
    "name": "ipython",
    "version": 3
   },
   "file_extension": ".py",
   "mimetype": "text/x-python",
   "name": "python",
   "nbconvert_exporter": "python",
   "pygments_lexer": "ipython3",
   "version": "3.9.9"
  }
 },
 "nbformat": 4,
 "nbformat_minor": 5
}

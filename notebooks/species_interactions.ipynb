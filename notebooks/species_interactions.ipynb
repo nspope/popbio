{
 "cells": [
  {
   "cell_type": "code",
   "execution_count": null,
   "metadata": {},
   "outputs": [],
   "source": [
    "# setup\n",
    "import numpy as np\n",
    "import matplotlib\n",
    "import matplotlib.pyplot as plt\n",
    "import scipy\n",
    "import scipy.integrate\n",
    "plt.rcParams['figure.figsize'] = [10, 5]"
   ]
  },
  {
   "cell_type": "markdown",
   "metadata": {},
   "source": [
    "## Two-dimensional models\n",
    "\n",
    "Next we'll look at a common model of *two* populations.\n",
    "First, here's some code that will come in handy,\n",
    "for running simulations (`run_sim_2d( )`, much as before."
   ]
  },
  {
   "cell_type": "code",
   "execution_count": null,
   "metadata": {},
   "outputs": [],
   "source": [
    "def run_sim_2d(N0, M0, gen_fn, ngens, dtype='int', **kwargs):\n",
    "    assert(len(N0) == len(M0))\n",
    "    N = np.empty((ngens, len(N0)), dtype=dtype)\n",
    "    N[0, :] = N0\n",
    "    M = np.empty((ngens, len(M0)), dtype=dtype)\n",
    "    M[0, :] = M0\n",
    "    for t in range(1, ngens):\n",
    "        N[t, :], M[t, :] = gen_fn(N[t-1, :], M[t-1, :], **kwargs)\n",
    "    return N, M\n"
   ]
  },
  {
   "cell_type": "markdown",
   "metadata": {},
   "source": [
    "## Species interactions\n"
   ]
  },
  {
   "cell_type": "markdown",
   "metadata": {},
   "source": [
    "\n",
    "Let's generalize logistic-type population dynamics to more types. When there are $N$ individuals of type 0 and $M$ of type 1, then:\n",
    "\n",
    "1. Each time step, each type-0 individual has probability $p_0$ of dying,\n",
    "   and producing a Poisson number of offspring.\n",
    "2. The mean number of offspring depends on the current amount of resources:\n",
    "   it is equal to $\\lambda_0 \\exp(- (N + a_0 M)/K_0)$.\n",
    "3. Same, vice-versa.\n",
    "\n",
    "*Note:* here death and reproduction are coupled, like for an annual plant.\n",
    "\n",
    "How do we expect this to behave?\n",
    "Let's write down the *expected* dynamics:\n",
    "$$\\begin{aligned}\n",
    "  \\mathbb{E}[N_{t+1} | N_t = N, M_t = M]\n",
    "      &= F(N, M) \\\\\n",
    "      &= N (1 - p_0) + p_0 N \\lambda_0 \\exp(- (N + a_0 M)/K_0) \\\\\n",
    "  \\mathbb{E}[M_{t+1} | N_t = N, M_t = M]\n",
    "      &= G(N, M) \\\\\n",
    "      &= M (1 - p_1) + p_1 M \\lambda_1 \\exp(- (M + a_1 N)/K_1) .\n",
    "\\end{aligned}$$\n"
   ]
  },
  {
   "cell_type": "markdown",
   "metadata": {},
   "source": [
    "How's $N$ change with time? Well, if $N_t = n$ and $M_t = m$, then\n",
    "$$\n",
    "  N_{t+1} - N_t \\approx F(n,m) - n = p_0 n \\left( \\lambda_0 \\exp(-(n + a_0 m)/K_0) - 1 \\right) .\n",
    "$$"
   ]
  },
  {
   "cell_type": "markdown",
   "metadata": {},
   "source": [
    "### Aside: the Lotka-Volterra equations\n",
    "\n",
    "The differential equations we'd get here are:\n",
    "$$\\begin{aligned}\n",
    "  \\frac{dN}{dt}\n",
    "      &= r_0 N_t \\exp\\left( - \\frac{N_t + a_0 M_t}{K_0} \\right) \\\\\n",
    "  \\frac{dM}{dt}\n",
    "      &= r_1 M_t \\exp\\left( - \\frac{M_t + a_1 N_t}{K_1} \\right) \n",
    "\\end{aligned}$$\n",
    "This is a multivariate version of the Ricker model;\n",
    "the more famous Lotka-Volterra equations are the \"logistic\" analogue,\n",
    "with $(1-N/K)$ instead of $\\exp(-N/K)$."
   ]
  },
  {
   "cell_type": "markdown",
   "metadata": {},
   "source": [
    "### Simulation\n",
    "\n",
    "First, let's look at the time series of the two population sizes,\n",
    "both from a stochastic simulation\n",
    "and iteration of the deterministic equations.\n",
    "(If they don't look similar, we probably made a mistake.)"
   ]
  },
  {
   "cell_type": "code",
   "execution_count": null,
   "metadata": {},
   "outputs": [],
   "source": [
    "def lv_eqn(N, M, lam, p, K, a):\n",
    "    # this is F and G, the deterministic equations\n",
    "    next_N = N + p[0] * N * (lam[0] * np.exp(-(N + a[0] * M)/K[0]) - 1)\n",
    "    next_M = M + p[1] * M * (lam[1] * np.exp(-(M + a[1] * N)/K[1]) - 1)\n",
    "    return next_N, next_M\n",
    "\n",
    "def lv_gen(N, M, lam, p, K, a):\n",
    "    # this is simulating as described above\n",
    "    assert(len(M) == len(N))\n",
    "    N_dies = np.random.binomial(N, p[0])\n",
    "    M_dies = np.random.binomial(M, p[1])\n",
    "    N_repro = np.random.poisson(N_dies * lam[0] * np.exp(-((N + a[0]*M)/K[0])))\n",
    "    M_repro = np.random.poisson(M_dies * lam[1] * np.exp(-((M + a[1]*N)/K[1])))\n",
    "    next_N = N - N_dies + N_repro\n",
    "    next_M = M - M_dies + M_repro\n",
    "    return next_N, next_M\n",
    "\n",
    "# we'll use **kwargs to avoid re-typing these over and over\n",
    "lv_args = {\n",
    "        'lam' : [1.2, 1.1],    # fecundity\n",
    "        'p' : [0.5, 0.9],      # survival prob\n",
    "        'K' : [2000, 5000],      # carrying capacity\n",
    "        'a' : [0.1, 0.1]  # encounter rate\n",
    "    }\n",
    "\n",
    "# random simulation\n",
    "N, M = run_sim_2d([500], [100], lv_gen, 120, dtype='int',\n",
    "                    **lv_args)\n",
    "# deterministic\n",
    "tN, tM = run_sim_2d([500], [100], lv_eqn, 120, dtype='float',\n",
    "                    **lv_args)\n",
    "\n",
    "fig, ax = plt.subplots()\n",
    "ax.plot(np.column_stack([N, M]), label=[\"type 0\", \"type 1\"])\n",
    "ax.plot(np.column_stack([tN, tM]), linestyle=\"--\")\n",
    "ax.legend();"
   ]
  },
  {
   "cell_type": "markdown",
   "metadata": {},
   "source": [
    "### Equilibrium\n",
    "\n",
    "Note that $\\mathbb{E}[N_{t+1}] = N$ only if \n",
    "$\\lambda_0 \\exp(- (N + a_0 M)/K_0) = 1$,\n",
    "and this happens only if\n",
    "$(N + a_0 M)/K_0 = \\log \\lambda_0$.\n",
    "\n",
    "Writing out the equations for both species,\n",
    "equilibrium occurs when\n",
    "$$\\begin{aligned}\n",
    "  N_* + a_0 M_* &= K_0 \\log(\\lambda_0) \\\\\n",
    "  a_1 N_* + M_* &= K_1 \\log(\\lambda_1)  \n",
    "\\end{aligned}$$\n",
    "which is solved by\n",
    "$$\\begin{aligned}\n",
    "  N_* &= \\frac{K_0 \\log(\\lambda_0) - a_0 K_1 \\log(\\lambda_1)}{1 - a_0 a_1} \\\\\n",
    "  M_* &= \\frac{K_1 \\log(\\lambda_1) - a_1 K_0 \\log(\\lambda_0)}{1 - a_0 a_1} .\n",
    "\\end{aligned}$$"
   ]
  },
  {
   "cell_type": "code",
   "execution_count": null,
   "metadata": {},
   "outputs": [],
   "source": [
    "def lv_equil(lam, p, K, a):\n",
    "    return np.array([K[0] * np.log(lam[0]) - a[0] * K[1] * np.log(lam[1]),\n",
    "                     K[1] * np.log(lam[1]) - a[1] * K[0] * np.log(lam[0])]) / (1 - a[0] * a[1])\n",
    "\n",
    "\n",
    "equil = lv_equil(**lv_args)\n",
    "print(\"equilibrium:\", equil)"
   ]
  },
  {
   "cell_type": "code",
   "execution_count": null,
   "metadata": {},
   "outputs": [],
   "source": [
    "for a in equil:\n",
    "    ax.axhline(a, linestyle=\":\");\n",
    "fig"
   ]
  },
  {
   "cell_type": "markdown",
   "metadata": {},
   "source": [
    "### Phase plots\n",
    "\n",
    "We really want to think of the basic equations\n",
    "as telling us which way the system is \"pushed\".\n",
    "A nice way to view this is as a *vector field* of arrows\n",
    "in *phase space*.\n",
    "Here is code to make these plots.\n",
    "(But, you should probably look at the result, first!)"
   ]
  },
  {
   "cell_type": "code",
   "execution_count": null,
   "metadata": {},
   "outputs": [],
   "source": [
    "def phase_plot(genfn, xlim, ylim, nx, ny, **kwargs):\n",
    "    xstep = int((xlim[1] - xlim[0]) / nx)\n",
    "    ystep = int((ylim[1] - ylim[0]) / ny)\n",
    "    X, Y = np.meshgrid(range(xlim[0], xlim[1], xstep), range(ylim[0], ylim[1], ystep))\n",
    "    X.shape = Y.shape = (np.prod(X.shape),)\n",
    "    U, V = genfn(X, Y, **kwargs)\n",
    "    fig, ax = plt.subplots()\n",
    "    ax.quiver(X, Y, U-X, V-Y, angles='xy', scale_units='xy', scale=1)\n",
    "    ax.axis('equal')\n",
    "    return fig, ax"
   ]
  },
  {
   "cell_type": "markdown",
   "metadata": {},
   "source": [
    "Here is a phase plot for this system,\n",
    "along with the deterministic trajectory starting from a single point,\n",
    "and converging to the equilibrium."
   ]
  },
  {
   "cell_type": "code",
   "execution_count": null,
   "metadata": {},
   "outputs": [],
   "source": [
    "def do_plot(lv_args):  \n",
    "    equil = lv_equil(**lv_args)\n",
    "\n",
    "    tN, tM = run_sim_2d([500], [100], lv_eqn, 120, dtype='float',\n",
    "                        **lv_args)\n",
    "\n",
    "    plt.rcParams['figure.figsize'] = [10, 10]\n",
    "    fig, ax = phase_plot(lv_eqn, xlim=[0, 600], ylim=[0, 600], nx=20, ny=20,\n",
    "                         **lv_args)\n",
    "    ax.plot(tN, tM)\n",
    "    ax.scatter(tN, tM)\n",
    "    ax.scatter(equil[0], equil[1], s=1000, c='g', alpha=0.5)\n",
    "    plt.xlabel(\"N\")\n",
    "    plt.ylabel(\"M\")\n",
    "    return fig, ax"
   ]
  },
  {
   "cell_type": "code",
   "execution_count": null,
   "metadata": {},
   "outputs": [],
   "source": [
    "lv_args = {\n",
    "        'lam' : [1.2, 1.1],    # fecundity\n",
    "        'p' : [0.6, 0.9],      # death prob\n",
    "        'K' : [2000, 5000],      # carrying capacity\n",
    "        'a' : [0.4, 0.1]  # encounter rate\n",
    "    }\n",
    "fig, ax = do_plot(lv_args)"
   ]
  },
  {
   "cell_type": "markdown",
   "metadata": {},
   "source": [
    "And, here is a stochastic simulation trajectory.\n",
    "(Run again to add more.)"
   ]
  },
  {
   "cell_type": "code",
   "execution_count": null,
   "metadata": {},
   "outputs": [],
   "source": [
    "# random simulation\n",
    "N, M = run_sim_2d([500], [100], lv_gen, 120, dtype='int',\n",
    "                    **lv_args)\n",
    "ax.plot(N, M)\n",
    "ax.scatter(N, M)\n",
    "fig"
   ]
  },
  {
   "cell_type": "markdown",
   "metadata": {},
   "source": [
    "### Homework 4, option 1\n",
    "\n",
    "If $K_0 \\log(\\lambda_0) < a_0 K_1 \\log(\\lambda_1)$\n",
    "and/or $K_1 \\log(\\lambda_1) < a_1 K_0 \\log(\\lambda_0)$\n",
    "then there is no stable equilibrium with both species coexisting.\n",
    "Investigate with simulations to verify this,\n",
    "and explain intuitively why coexistence fails."
   ]
  },
  {
   "cell_type": "markdown",
   "metadata": {},
   "source": [
    "### Homework 4, option 2\n",
    "\n",
    "We can get very different behavior of this system\n",
    "for different values of $a_0$ and $a_1$.\n",
    "Here is a taxonomy:\n",
    "\n",
    "\n",
    "|  a_0  |  a_1  | interaction |\n",
    "|-------|-------|-------------|\n",
    "|   -   |   -   | mutualism   |\n",
    "|   -   |   0   | commensal   |\n",
    "|   +   |   -   | parasitic   |\n",
    "|   +   |   +   | competition |\n",
    "\n",
    "\n",
    "Plot simulation results in phase space\n",
    "of example parameters for each of the four interactions,\n",
    "both (a) with stable coexistence,\n",
    "and (b) without (where one goes extinct).\n",
    "Write down any observations you have."
   ]
  },
  {
   "cell_type": "markdown",
   "metadata": {},
   "source": [
    "## Isoclines\n",
    "\n",
    "A nice way to look at phase plots\n",
    "is to draw on them the *isoclines*,\n",
    "i.e., the lines along which each variable does not change.\n",
    "We saw above that $N$ does not change if\n",
    "$$\\begin{aligned}\n",
    "  N + a_0 M &= K_0 \\log(\\lambda_0),\n",
    "\\end{aligned}$$\n",
    "and $M$ does not change if\n",
    "$$\\begin{aligned}\n",
    "  a_1 N + M &= K_1 \\log(\\lambda_1) . \n",
    "\\end{aligned}$$\n",
    "In this example these turn out to be *straight lines* in phase space."
   ]
  },
  {
   "cell_type": "code",
   "execution_count": null,
   "metadata": {},
   "outputs": [],
   "source": [
    "xx = np.array([0.0, 600])\n",
    "ax.plot(lv_args['K'][0] * np.log(lv_args['lam'][0]) - xx * lv_args['a'][0], xx)\n",
    "ax.plot(xx, lv_args['K'][1] * np.log(lv_args['lam'][1]) - xx * lv_args['a'][1])\n",
    "fig"
   ]
  },
  {
   "cell_type": "markdown",
   "metadata": {},
   "source": [
    "### Another set of parameters \n",
    "\n",
    "Here's fun set of parameters."
   ]
  },
  {
   "cell_type": "code",
   "execution_count": null,
   "metadata": {},
   "outputs": [],
   "source": [
    "lv_args = {\n",
    "        'lam' : [2.0, 2.9],    # fecundity\n",
    "        'p' : [0.9, 0.3],      # survival prob\n",
    "        'K' : [2000, 1500],    # carrying capacity\n",
    "        'a' : [0.5, 0.5]       # encounter rate\n",
    "    }\n",
    "\n",
    "# random simulation\n",
    "N, M = run_sim_2d([500], [100], lv_gen, 120, dtype='int',\n",
    "                    **lv_args)\n",
    "\n",
    "# deterministic\n",
    "tN, tM = run_sim_2d([500], [100], lv_eqn, 120, dtype='float',\n",
    "                    **lv_args)\n",
    "equil = np.fmin(2000, np.fmax(0.0, lv_equil(**lv_args)))\n",
    "\n",
    "fig, ax = phase_plot(lv_eqn, xlim=[0, 2000], ylim=[0, 2000], nx=20, ny=20,\n",
    "                     **lv_args)\n",
    "ax.plot(tN, tM)\n",
    "ax.scatter(tN, tM)\n",
    "ax.plot(N, M)\n",
    "ax.scatter(N, M)\n",
    "ax.scatter(equil[0], equil[1], s=1000, c='g', alpha=0.5);"
   ]
  },
  {
   "cell_type": "markdown",
   "metadata": {},
   "source": [
    "# Susceptible-Infected\n",
    "\n",
    "The parameters are:\n",
    "\n",
    "- $\\lambda$ : birth rate of new individuals (`lambda`)\n",
    "- $c$ : per capita encounter rate\n",
    "- $a$ : transmission rate per encounter\n",
    "- $\\rho$ : recovery rate (`rho`)\n",
    "- $\\mu$ : death rate of susceptible individuals (`mu`)\n",
    "- $\\delta$ : death rate of infected individuals (`delta`)\n",
    "\n",
    "The equations for the number of susceptible ($S$) \n",
    "and the number of infected ($I$) individuals are:\n",
    "$$\\begin{aligned}\n",
    "  \\frac{dS}{dt} &= \\lambda - \\mu S - a c S I + \\rho I \\\\\n",
    "  \\frac{dI}{dt} &= a  c S I - \\delta I - \\rho I  \n",
    "\\end{aligned}$$\n"
   ]
  },
  {
   "cell_type": "markdown",
   "metadata": {},
   "source": [
    "## Homework 5\n",
    "\n",
    "Implement this scheme as a simulation,\n",
    "and make the phase space plots as above,\n",
    "with the deterministic arrows given by the differential equation\n",
    "(see next cell)\n",
    "and the simulation coming from the scheme we worked out in class:\n",
    "\n",
    "If in the last time step the number of susceptible individuals is $S$ and the number of infecteds is $I$, then:\n",
    "\n",
    "1. The number of births is Poisson($\\lambda$).\n",
    "2. The number of susceptibles that die is Binomial($S$, $\\mu$),\n",
    "   and the number of infecteds that die is Binomial($I$, $\\delta$).\n",
    "3. The number of recovered is Binomial($I$, $\\rho$).\n",
    "4. The number of encounters with an infected individual\n",
    "    for the $i$th susceptible is $E_i \\sim $Binomial($I$, $c$),\n",
    "    and the number of infections they contract is $V_i = $Binomial($E_i$, $a$);\n",
    "    they become infected if $V_i > 0$.\n",
    "    \n",
    "*Note:* In the description above the number of susceptibles and infecteds change at each time step;\n",
    "so for instance in your code, probably the $I$ in step 3 should be the starting value of $I$ minus\n",
    "the number of infecteds that died - but, feel free to make this choice in some way that makes sense."
   ]
  },
  {
   "cell_type": "code",
   "execution_count": null,
   "metadata": {},
   "outputs": [],
   "source": [
    "def si_eqn(S, I, lam, c, a, rho, mu, delta, dt=1):\n",
    "    next_S = S + dt * (lam - mu * S - a * c * S * I + rho * I)\n",
    "    next_I = I + dt * (a * c * S * I - delta * I - rho * I)\n",
    "    return next_S, next_I"
   ]
  },
  {
   "cell_type": "code",
   "execution_count": null,
   "metadata": {},
   "outputs": [],
   "source": [
    "lam = 3\n",
    "mu = 0.2\n",
    "delta = 0.4\n",
    "rho = 0.3\n",
    "c = 0.6\n",
    "a = 0.8\n",
    "\n",
    "S = 100\n",
    "I = 5\n",
    "rng = np.random.default_rng()\n",
    "\n",
    "def si_gen(S, I, lam, mu, delta, rho, c, a):\n",
    "    births = rng.poisson(lam)\n",
    "    S_deaths = rng.binomial(S, mu)\n",
    "    S -= S_deaths\n",
    "    I_deaths = rng.binomial(I, delta)\n",
    "    I -= I_deaths\n",
    "    recovered = rng.binomial(I, rho)\n",
    "    I -= recovered\n",
    "    S += recovered\n",
    "    encounters = rng.binomial(I, c, size=S)\n",
    "    infections = rng.binomial(encounters, a, size=S)\n",
    "    new_infections = sum(infections > 0)\n",
    "    I += new_infections\n",
    "    S -= new_infections\n",
    "    return S, I"
   ]
  },
  {
   "cell_type": "markdown",
   "metadata": {},
   "source": [
    "## Approximations\n",
    "\n",
    "Look at $P(V > 0) \\approx E[eA]$."
   ]
  },
  {
   "cell_type": "code",
   "execution_count": null,
   "metadata": {},
   "outputs": [],
   "source": [
    "x = np.linspace(0, 0.001, 1001)\n",
    "I = 100\n",
    "def f(x):\n",
    "    return 1 - (1 - x) ** I\n",
    "\n",
    "def approx_f(x):\n",
    "    return I * x\n",
    "\n",
    "fig, (ax1, ax2) = plt.subplots(1, 2, figsize=(10,5))\n",
    "ax1.plot(x, f(x), label=\"f(x)\")\n",
    "ax1.plot(x, approx_f(x), label=\"y=I*x\");\n",
    "ax1.set_xlabel(\"x\")\n",
    "ax1.set_ylabel(\"f(x)\")\n",
    "ax1.legend()\n",
    "\n",
    "ax2.plot(x, np.abs(f(x) - approx_f(x)), label='error')\n",
    "ax2.set_xlabel(\"x\")\n",
    "ax2.set_ylabel(\"f(x) - I*x\")\n",
    "ax2.legend();"
   ]
  }
 ],
 "metadata": {
  "kernelspec": {
   "display_name": "Python 3 (ipykernel)",
   "language": "python",
   "name": "python3"
  },
  "language_info": {
   "codemirror_mode": {
    "name": "ipython",
    "version": 3
   },
   "file_extension": ".py",
   "mimetype": "text/x-python",
   "name": "python",
   "nbconvert_exporter": "python",
   "pygments_lexer": "ipython3",
   "version": "3.11.1"
  }
 },
 "nbformat": 4,
 "nbformat_minor": 4
}

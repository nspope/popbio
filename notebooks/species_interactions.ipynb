{
 "cells": [
  {
   "cell_type": "code",
   "execution_count": null,
   "metadata": {},
   "outputs": [],
   "source": [
    "# setup\n",
    "import numpy as np\n",
    "import matplotlib\n",
    "import matplotlib.pyplot as plt\n",
    "import scipy\n",
    "import scipy.integrate"
   ]
  },
  {
   "cell_type": "code",
   "execution_count": null,
   "metadata": {},
   "outputs": [],
   "source": [
    "# setup: has to be in a separate cell for some reason\n",
    "plt.rcParams['figure.figsize'] = [10, 5]"
   ]
  },
  {
   "cell_type": "markdown",
   "metadata": {},
   "source": [
    "## Two-dimensional models\n",
    "\n",
    "Next we'll look at a common model of *two* populations.\n",
    "First, here's some code that will come in handy,\n",
    "for running simulations (`run_sim_2d( )`, much as before."
   ]
  },
  {
   "cell_type": "code",
   "execution_count": null,
   "metadata": {},
   "outputs": [],
   "source": [
    "def run_sim_2d(N0, M0, gen_fn, ngens, dtype='int', **kwargs):\n",
    "    assert(len(N0) == len(M0))\n",
    "    N = np.empty((ngens, len(N0)), dtype=dtype)\n",
    "    N[0, :] = N0\n",
    "    M = np.empty((ngens, len(M0)), dtype=dtype)\n",
    "    M[0, :] = M0\n",
    "    for t in range(1, ngens):\n",
    "        N[t, :], M[t, :] = gen_fn(N[t-1, :], M[t-1, :], **kwargs)\n",
    "    return N, M\n"
   ]
  },
  {
   "cell_type": "markdown",
   "metadata": {},
   "source": [
    "## Species interactions\n"
   ]
  },
  {
   "cell_type": "markdown",
   "metadata": {},
   "source": [
    "\n",
    "Let's generalize logistic-type population dynamics to more types. When there are $N$ individuals of type 0 and $M$ of type 1, then:\n",
    "\n",
    "1. Each time step, each type-0 individual has probability $p_0$ of dying,\n",
    "   and producing a Poisson number of offspring.\n",
    "2. The mean number of offspring depends on the current amount of resources:\n",
    "   it is equal to $\\lambda_0 \\exp(- (N + a_0 M)/K_0)$.\n",
    "3. Same, vice-versa.\n",
    "\n",
    "*Note:* here death and reproduction are coupled, like for an annual plant.\n",
    "\n",
    "How do we expect this to behave?\n",
    "Let's write down the *expected* dynamics:\n",
    "$$\\begin{aligned}\n",
    "  \\mathbb{E}[N_{t+1} | N_t = N, M_t = M]\n",
    "      &= F(N, M) \\\\\n",
    "      &= N (1 - p_0) + p_0 N \\lambda_0 \\exp(- (N + a_0 M)/K_0) \\\\\n",
    "  \\mathbb{E}[M_{t+1} | N_t = N, M_t = M]\n",
    "      &= G(N, M) \\\\\n",
    "      &= M (1 - p_1) + p_1 N \\lambda_1 \\exp(- (M + a_1 N)/K_1) .\n",
    "\\end{aligned}$$\n"
   ]
  },
  {
   "cell_type": "markdown",
   "metadata": {},
   "source": [
    "### Aside: the Lotka-Volterra equations\n",
    "\n",
    "The differential equations we'd get here are:\n",
    "$$\\begin{aligned}\n",
    "  \\frac{dN}{dt}\n",
    "      &= r_0 N_t \\exp\\left( - \\frac{N_t + a_0 M_t}{K_0} \\right) \\\\\n",
    "  \\frac{dM}{dt}\n",
    "      &= r_1 M_t \\exp\\left( - \\frac{M_t + a_1 N_t}{K_1} \\right) \n",
    "\\end{aligned}$$\n",
    "This is a multivariate version of the Ricker model;\n",
    "the more famous Lotka-Volterra equations are the \"logistic\" analogue,\n",
    "with $(1-N/K)$ instead of $\\exp(-N/K)$."
   ]
  },
  {
   "cell_type": "markdown",
   "metadata": {},
   "source": [
    "### Simulation\n",
    "\n",
    "First, let's look at the time series of the two population sizes,\n",
    "both from a stochastic simulation\n",
    "and iteration of the deterministic equations.\n",
    "(If they don't look similar, we probably made a mistake.)"
   ]
  },
  {
   "cell_type": "code",
   "execution_count": null,
   "metadata": {},
   "outputs": [],
   "source": [
    "def lv_eqn(N, M, lam, p, K, a):\n",
    "    next_N = N + p[0] * N * (lam[0] * np.exp(-(N + a[0] * M)/K[0]) - 1)\n",
    "    next_M = M + p[1] * M * (lam[1] * np.exp(-(M + a[1] * N)/K[1]) - 1)\n",
    "    return next_N, next_M\n",
    "\n",
    "def lv_gen(N, M, lam, p, K, a):\n",
    "    assert(len(M) == len(N))\n",
    "    N_dies = np.random.binomial(N, p[0])\n",
    "    M_dies = np.random.binomial(M, p[1])\n",
    "    N_repro = np.random.poisson(N_dies * lam[0] * np.exp(-((N + a[0]*M)/K[0])))\n",
    "    M_repro = np.random.poisson(M_dies * lam[1] * np.exp(-((M + a[1]*N)/K[1])))\n",
    "    next_N = N - N_dies + N_repro\n",
    "    next_M = M - M_dies + M_repro\n",
    "    return next_N, next_M\n",
    "\n",
    "# we'll use **kwargs to avoid re-typing these over and over\n",
    "lv_args = {\n",
    "        'lam' : [1.2, 1.1],    # fecundity\n",
    "        'p' : [0.5, 0.9],      # survival prob\n",
    "        'K' : [2000, 5000],      # carrying capacity\n",
    "        'a' : [0.1, 0.1]  # encounter rate\n",
    "    }\n",
    "\n",
    "# random simulation\n",
    "N, M = run_sim_2d([500], [100], lv_gen, 120, dtype='int',\n",
    "                    **lv_args)\n",
    "# deterministic\n",
    "tN, tM = run_sim_2d([500], [100], lv_eqn, 120, dtype='float',\n",
    "                    **lv_args)\n",
    "\n",
    "fig, ax = plt.subplots()\n",
    "ax.plot(np.column_stack([N, M]))\n",
    "ax.plot(np.column_stack([tN, tM]), linestyle=\"--\");"
   ]
  },
  {
   "cell_type": "markdown",
   "metadata": {},
   "source": [
    "### Equilibrium\n",
    "\n",
    "Note that $\\mathbb{E}[N_{t+1}] = N$ only if \n",
    "$\\lambda_0 \\exp(- (N + a_0 M)/K_0) = 1$,\n",
    "and this happens only if\n",
    "$(N + a_0 M)/K_0 = \\log \\lambda_0$.\n",
    "\n",
    "Writing out the equations for both species,\n",
    "equilibrium occurs when\n",
    "$$\\begin{aligned}\n",
    "  N + a_0 M &= K_0 \\log(\\lambda_0) \\\\\n",
    "  a_1 N + M &= K_1 \\log(\\lambda_1)  \n",
    "\\end{aligned}$$\n",
    "which is solved by\n",
    "$$\\begin{aligned}\n",
    "  N &= \\frac{K_0 \\log(\\lambda_0) - a_0 K_1 \\log(\\lambda_1)}{1 - a_0 a_1} \\\\\n",
    "  M &= \\frac{K_1 \\log(\\lambda_1) - a_1 K_0 \\log(\\lambda_0)}{1 - a_0 a_1} .\n",
    "\\end{aligned}$$"
   ]
  },
  {
   "cell_type": "code",
   "execution_count": null,
   "metadata": {},
   "outputs": [],
   "source": [
    "def lv_equil(lam, p, K, a):\n",
    "    return np.array([K[0] * np.log(lam[0]) - a[0] * K[1] * np.log(lam[1]),\n",
    "                     K[1] * np.log(lam[1]) - a[1] * K[0] * np.log(lam[0])]) / (1 - a[0] * a[1])\n",
    "\n",
    "\n",
    "equil = lv_equil(**lv_args)\n",
    "print(\"equilibrium:\", equil)"
   ]
  },
  {
   "cell_type": "code",
   "execution_count": null,
   "metadata": {},
   "outputs": [],
   "source": [
    "for a in equil:\n",
    "    ax.axhline(a, linestyle=\":\");\n",
    "fig"
   ]
  },
  {
   "cell_type": "markdown",
   "metadata": {},
   "source": [
    "### Phase plots\n",
    "\n",
    "We really want to think of the basic equations\n",
    "as telling us which way the system is \"pushed\".\n",
    "A nice way to view this is as a *vector field* of arrows\n",
    "in *phase space*.\n",
    "Here is code to make these plots.\n",
    "(But, you should probably look at the result, first!)"
   ]
  },
  {
   "cell_type": "code",
   "execution_count": null,
   "metadata": {},
   "outputs": [],
   "source": [
    "def phase_plot(genfn, xlim, ylim, nx, ny, **kwargs):\n",
    "    xstep = int((xlim[1] - xlim[0]) / nx)\n",
    "    ystep = int((ylim[1] - ylim[0]) / ny)\n",
    "    X, Y = np.meshgrid(range(xlim[0], xlim[1], xstep), range(ylim[0], ylim[1], ystep))\n",
    "    X.shape = Y.shape = (np.prod(X.shape),)\n",
    "    U, V = genfn(X, Y, **kwargs)\n",
    "    fig, ax = plt.subplots()\n",
    "    ax.quiver(X, Y, U-X, V-Y, angles='xy', scale_units='xy', scale=1)\n",
    "    return fig, ax"
   ]
  },
  {
   "cell_type": "markdown",
   "metadata": {},
   "source": [
    "Here is a phase plot for this system,\n",
    "along with the deterministic trajectory starting from a single point,\n",
    "and converging to the equilibrium."
   ]
  },
  {
   "cell_type": "code",
   "execution_count": null,
   "metadata": {},
   "outputs": [],
   "source": [
    "def do_plot(lv_args):  \n",
    "    equil = lv_equil(**lv_args)\n",
    "\n",
    "    tN, tM = run_sim_2d([500], [100], lv_eqn, 120, dtype='float',\n",
    "                        **lv_args)\n",
    "\n",
    "    plt.rcParams['figure.figsize'] = [10, 10]\n",
    "    fig, ax = phase_plot(lv_eqn, xlim=[0, 600], ylim=[0, 600], nx=20, ny=20,\n",
    "                         **lv_args)\n",
    "    ax.plot(tN, tM)\n",
    "    ax.scatter(tN, tM)\n",
    "    ax.scatter(equil[0], equil[1], s=1000, c='g', alpha=0.5)\n",
    "    ax.axis('equal')\n",
    "    plt.xlabel(\"N\")\n",
    "    plt.ylabel(\"M\")\n",
    "    return fig, ax"
   ]
  },
  {
   "cell_type": "code",
   "execution_count": null,
   "metadata": {},
   "outputs": [],
   "source": [
    "lv_args = {\n",
    "        'lam' : [1.2, 1.1],    # fecundity\n",
    "        'p' : [0.5, 0.9],      # death prob\n",
    "        'K' : [2000, 5000],      # carrying capacity\n",
    "        'a' : [0.1, 0.1]  # encounter rate\n",
    "    }\n",
    "fig, ax = do_plot(lv_args)"
   ]
  },
  {
   "cell_type": "markdown",
   "metadata": {},
   "source": [
    "And, here is a stochastic simulation trajectory.\n",
    "(Run again to add more.)"
   ]
  },
  {
   "cell_type": "code",
   "execution_count": null,
   "metadata": {},
   "outputs": [],
   "source": [
    "# random simulation\n",
    "N, M = run_sim_2d([500], [100], lv_gen, 120, dtype='int',\n",
    "                    **lv_args)\n",
    "ax.plot(N, M)\n",
    "ax.scatter(N, M)\n",
    "fig"
   ]
  },
  {
   "cell_type": "markdown",
   "metadata": {},
   "source": [
    "### Exercise\n",
    "\n",
    "If $K_0 \\log(\\lambda_0) < a_0 K_1 \\log(\\lambda_1)$\n",
    "and/or $K_1 \\log(\\lambda_1) < a_1 K_0 \\log(\\lambda_0)$\n",
    "then there is no stable equilibrium with both species coexisting.\n",
    "Investigate with simulations to verify this,\n",
    "and explain intuitively why coexistence fails."
   ]
  },
  {
   "cell_type": "markdown",
   "metadata": {},
   "source": [
    "### Homework\n",
    "\n",
    "We can get very different behavior of this system\n",
    "for different values of $a_0$ and $a_1$.\n",
    "Here is a taxonomy:\n",
    "\n",
    "\n",
    "|  a_0  |  a_1  | interaction |\n",
    "|-------|-------|-------------|\n",
    "|   -   |   -   | mutualism   |\n",
    "|   -   |   0   | commensal   |\n",
    "|   +   |   -   | parasitic   |\n",
    "|   +   |   +   | competition |\n",
    "\n",
    "\n",
    "Plot simulation results in phase space\n",
    "of example parameters for each of the four interactions,\n",
    "both (a) with stable coexistence,\n",
    "and (b) without (where one goes extinct).\n",
    "Do you have any observations about where the transition occurs?"
   ]
  },
  {
   "cell_type": "markdown",
   "metadata": {},
   "source": [
    "## Isoclines\n",
    "\n",
    "A nice way to look at phase plots\n",
    "is to draw on them the *isoclines*,\n",
    "i.e., the lines along which each variable does not change.\n",
    "We saw above that $N$ does not change if\n",
    "$$\\begin{aligned}\n",
    "  N + a_0 M &= K_0 \\log(\\lambda_0),\n",
    "\\end{aligned}$$\n",
    "and $M$ does not change if\n",
    "$$\\begin{aligned}\n",
    "  a_1 N + M &= K_1 \\log(\\lambda_1) . \n",
    "\\end{aligned}$$\n",
    "In this example these turn out to be *straight lines* in phase space."
   ]
  },
  {
   "cell_type": "code",
   "execution_count": null,
   "metadata": {},
   "outputs": [],
   "source": [
    "xx = np.array([0.0, 600])\n",
    "ax.plot(lv_args['K'][0] * np.log(lv_args['lam'][0]) - xx * lv_args['a'][0], xx)\n",
    "ax.plot(xx, lv_args['K'][1] * np.log(lv_args['lam'][1]) - xx * lv_args['a'][1])\n",
    "fig"
   ]
  },
  {
   "cell_type": "markdown",
   "metadata": {},
   "source": [
    "### Another set of parameters \n",
    "\n",
    "Here's fun set of parameters."
   ]
  },
  {
   "cell_type": "code",
   "execution_count": null,
   "metadata": {},
   "outputs": [],
   "source": [
    "lv_args = {\n",
    "        'lam' : [2.0, 2.9],    # fecundity\n",
    "        'p' : [0.9, 0.3],      # survival prob\n",
    "        'K' : [2000, 1500],    # carrying capacity\n",
    "        'a' : [0.5, 0.5]       # encounter rate\n",
    "    }\n",
    "\n",
    "# random simulation\n",
    "N, M = run_sim_2d([500], [100], lv_gen, 120, dtype='int',\n",
    "                    **lv_args)\n",
    "\n",
    "# deterministic\n",
    "tN, tM = run_sim_2d([500], [100], lv_eqn, 120, dtype='float',\n",
    "                    **lv_args)\n",
    "equil = np.fmin(2000, np.fmax(0.0, lv_equil(**lv_args)))\n",
    "\n",
    "fig, ax = phase_plot(lv_eqn, xlim=[0, 2000], ylim=[0, 2000], nx=20, ny=20,\n",
    "                     **lv_args)\n",
    "ax.plot(tN, tM)\n",
    "ax.scatter(tN, tM)\n",
    "ax.plot(N, M)\n",
    "ax.scatter(N, M)\n",
    "ax.scatter(equil[0], equil[1], s=1000, c='g', alpha=0.5)\n",
    "ax.axis('equal')"
   ]
  },
  {
   "cell_type": "markdown",
   "metadata": {},
   "source": [
    "# Susceptible-Infected\n",
    "\n",
    "The parameters are:\n",
    "\n",
    "- $\\lambda$ : birth rate of new individuals (`lambda`)\n",
    "- $c$ : per capita encounter rate\n",
    "- $a$ : transmission rate per encounter\n",
    "- $\\rho$ : recovery rate (`rho`)\n",
    "- $\\mu$ : death rate of susceptible individuals (`mu`)\n",
    "- $\\delta$ : death rate of infected individuals (`delta`)\n",
    "\n",
    "The equations for the number of susceptible ($S$) \n",
    "and the number of infected ($I$) individuals are:\n",
    "$$\\begin{aligned}\n",
    "  \\frac{dS}{dt} &= \\lambda - \\mu S - a c S I + \\rho I \\\\\n",
    "  \\frac{dI}{dt} &= a  c S I - \\delta I - \\rho I  \n",
    "\\end{aligned}$$\n"
   ]
  },
  {
   "cell_type": "code",
   "execution_count": null,
   "metadata": {},
   "outputs": [],
   "source": [
    "def SI_eqn(N, M, dt, lam, c, a, rho, mu, delta):\n",
    "    next_N = N +  dt * (lam - mu * N - a * c * N * M + rho * M)\n",
    "    next_M = M + dt * (a * c * N * M - delta * M - rho * M)\n",
    "    return next_N, next_M\n",
    "\n",
    "SI_args = {'dt' : 0.5, 'lam' : 4, 'c' : 0.01, 'a' : 0.1, 'rho' : 0.2, 'mu' : 0.01, 'delta' : 0.02}\n",
    "\n",
    "tN, tM = run_sim_2d([200, 200, 280, 270], [10, 100, 10, 100], SI_eqn, 1000, dtype='float',\n",
    "               **SI_args)\n",
    "\n",
    "plt.rcParams['figure.figsize'] = [10, 10]\n",
    "fig = phase_plot(SI_eqn, xlim=[180, 300], ylim=[0, 150], nx=20, ny=20,\n",
    "                 **SI_args)\n",
    "ax = fig.gca()\n",
    "ax.plot(tN, tM)\n",
    "ax.scatter(tN, tM)\n",
    "ax.axis('equal')\n",
    "plt.xlabel(\"S\")\n",
    "plt.ylabel(\"I\")"
   ]
  },
  {
   "cell_type": "markdown",
   "metadata": {},
   "source": [
    "## Homework: Make a model\n",
    "\n",
    "Next, you will design a stochastic version of this\n",
    "and simulate from it."
   ]
  }
 ],
 "metadata": {
  "kernelspec": {
   "display_name": "Python 3",
   "language": "python",
   "name": "python3"
  },
  "language_info": {
   "codemirror_mode": {
    "name": "ipython",
    "version": 3
   },
   "file_extension": ".py",
   "mimetype": "text/x-python",
   "name": "python",
   "nbconvert_exporter": "python",
   "pygments_lexer": "ipython3",
   "version": "3.8.6"
  }
 },
 "nbformat": 4,
 "nbformat_minor": 2
}

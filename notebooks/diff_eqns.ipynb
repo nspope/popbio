{
 "cells": [
  {
   "cell_type": "code",
   "execution_count": null,
   "metadata": {},
   "outputs": [],
   "source": [
    "# setup\n",
    "import numpy as np\n",
    "import matplotlib\n",
    "import matplotlib.pyplot as plt\n",
    "import scipy\n",
    "import scipy.integrate\n",
    "plt.rcParams['figure.figsize'] = [10, 5]"
   ]
  },
  {
   "cell_type": "code",
   "execution_count": null,
   "metadata": {},
   "outputs": [],
   "source": [
    "# from last time\n",
    "def run_sim(N0, gen_fn, ngens, dtype='int', **kwargs):\n",
    "    \"\"\"\n",
    "    Runs some simulations, and return the results in the columns of an array.\n",
    "    \n",
    "    N0: initial conditions for the simulations\n",
    "    gen_fn: the function that takes the current array of population sizes and some more arguments,\n",
    "        and returns the array of population sizes in the next time step\n",
    "    ngens: number of time steps to run the simulations for\n",
    "    dtype: the numeric type of the result (defaults to integers)\n",
    "    **kwargs: more arguments passed to `gen_fn()`\n",
    "    \n",
    "    returns: A (ngens, len(N0)) array of type `dtype`.\n",
    "    \"\"\"\n",
    "    N = np.empty((ngens, len(N0)), dtype=dtype)\n",
    "    N[0, :] = N0\n",
    "    for t in range(1, ngens):\n",
    "        N[t, :] = gen_fn(N[t-1, :], **kwargs)\n",
    "    return N"
   ]
  },
  {
   "cell_type": "markdown",
   "metadata": {},
   "source": [
    "# Differential equation models\n",
    "\n",
    "Today we'll look at *differential equation* models,\n",
    "which are\n",
    "\n",
    "1. deterministic (not random), and\n",
    "2. continuous-time.\n",
    "\n",
    "Both of these are approximations, at least at some level,\n",
    "but provide a very useful big-picture look at how a model \"ought to behave\"."
   ]
  },
  {
   "cell_type": "markdown",
   "metadata": {},
   "source": [
    "## The logistic model\n",
    "\n",
    "Last time we studied a model of *logistic population growth*.\n",
    "Reparameterizing a bit,\n",
    "in this model the population size at time step $k$, denoted $N_k$,\n",
    "satisfies\n",
    "$$\\begin{aligned}\n",
    "  N_{k+1} - N_k &= N_k \\left( \\lambda - \\mu - \\frac{\\lambda N_k}{K} \\right) + \\epsilon,\n",
    "\\end{aligned}$$\n",
    "where\n",
    "\n",
    "- $\\mu$ is the probability an individual dies before to the next time step,\n",
    "- $\\lambda$ is the mean unconstrainted number of offspring per time step,\n",
    "- $K$ is the \"carrying capacity\", and\n",
    "- $\\epsilon$ is \"noise\", with mean zero and variance proportional to the number of births and deaths.\n",
    "\n",
    "Imagine our first model was very coarse-grained:\n",
    "we'd defined one \"time step\" to be 100 years,\n",
    "and now we want to refine it, using the \"same\" model,\n",
    "but with one time step equal to *one* year.\n",
    "To do this, we'd need to:\n",
    "\n",
    "- divide $\\mu$ by 100 (so the mean number of deaths per 100 years would be the same), and\n",
    "- divide $\\lambda$ by 100 (same, for births).\n",
    "\n",
    "The carrying capacity would stay the same, \n",
    "and the variance of $\\epsilon$ would decrease \n",
    "along with the number of births and deaths per time step.\n",
    "\n",
    "Let's say instead that one original time step is one \"unit of time\", \n",
    "that we now break up into $T$ time steps.\n",
    "Then, the equation above is:\n",
    "$$\\begin{aligned}\n",
    "  N_{t+1/T} - N_t &= \\frac{1}{T} N_t \\left( \\lambda - \\mu - \\frac{\\lambda N_t}{K} \\right) + \\epsilon .\n",
    "\\end{aligned}$$\n",
    "\n",
    "The first idea of how this should behave comes from by ignoring noise\n",
    "(setting $\\epsilon = 0$).\n",
    "Then, multiplying by $T$ and taking $T \\to \\infty$\n",
    "(the limit of small time steps),\n",
    "we end up with the *logistic equation*,\n",
    "$$\\begin{aligned}\n",
    "  \\frac{d}{dt} N_t &= N_t \\left( \\lambda - \\mu - \\frac{\\lambda N_t}{K} \\right).\n",
    "\\end{aligned}$$\n",
    "(Well, it's the logistic equation we'd find [on Wikipedia](https://en.wikipedia.org/wiki/Logistic_function#Applications)\n",
    "if we set $r = \\lambda - \\mu$ and change $K$ to $K r / \\lambda$.)"
   ]
  },
  {
   "cell_type": "markdown",
   "metadata": {},
   "source": [
    "*Reminder:* this is because the definition of the derivative is\n",
    "$$ \\frac{d}{dt} f(t) = \\lim_{\\epsilon \\to 0} \\frac{1}{\\epsilon} (f(t + \\epsilon) - f(t)) . $$"
   ]
  },
  {
   "cell_type": "markdown",
   "metadata": {},
   "source": [
    "**Solving differential equations**\n",
    "can be done with [`scipy.integrate`](https://docs.scipy.org/doc/scipy/reference/integrate.html).\n",
    "How's this differ from iterating the discrete, deterministic equation?\n",
    "Not much, in this case."
   ]
  },
  {
   "cell_type": "code",
   "execution_count": null,
   "metadata": {},
   "outputs": [],
   "source": [
    "lam = 0.1\n",
    "mu = 1 - 0.95\n",
    "K = 2000\n",
    "def logistic_eqn(t, y):\n",
    "    return y * (lam - mu - lam * y / K)\n",
    "    \n",
    "y0 = np.array([0.6, 0.8, 1.0, 1.2, 1.4]) * K / 2\n",
    "logistic_solns = scipy.integrate.solve_ivp(\n",
    "                      fun = logistic_eqn, \n",
    "                      t_span = (0.0, 120.0),\n",
    "                      y0 = y0,\n",
    "                      t_eval=range(121))"
   ]
  },
  {
   "cell_type": "code",
   "execution_count": null,
   "metadata": {},
   "outputs": [],
   "source": [
    "def logistic_gen(N, lam, mu, K):\n",
    "    return (np.random.poisson(lam * N * np.fmax(0.0, 1 - N / K), len(N)) \n",
    "            + np.random.binomial(N, 1 - mu, len(N)))\n",
    "\n",
    "\n",
    "N = run_sim(y0, \n",
    "            gen_fn=logistic_gen, ngens=120, \n",
    "            lam=lam, mu=mu, K=K)\n",
    "\n",
    "plt.plot(N)\n",
    "plt.plot(logistic_solns.y.T, linestyle='--')\n",
    "plt.xlabel(\"time\")\n",
    "plt.ylabel(\"pop size\")\n",
    "plt.title(\"Logistic: theory and simulation\")\n",
    "plt.show()"
   ]
  },
  {
   "cell_type": "code",
   "execution_count": null,
   "metadata": {},
   "outputs": [],
   "source": [
    "help(scipy.integrate.solve_ivp)"
   ]
  },
  {
   "cell_type": "markdown",
   "metadata": {},
   "source": [
    "### Exercise\n",
    "\n",
    "Compare the solution to the differential equation\n",
    "to iteration of the deterministic equation we had before:"
   ]
  },
  {
   "cell_type": "code",
   "execution_count": null,
   "metadata": {},
   "outputs": [],
   "source": [
    "def logistic_step(N, lam, mu, K):\n",
    "    return N + (lam - mu) * N * (1 - lam * N / (K * (lam - mu)))"
   ]
  }
 ],
 "metadata": {
  "kernelspec": {
   "display_name": "Python 3 (ipykernel)",
   "language": "python",
   "name": "python3"
  },
  "language_info": {
   "codemirror_mode": {
    "name": "ipython",
    "version": 3
   },
   "file_extension": ".py",
   "mimetype": "text/x-python",
   "name": "python",
   "nbconvert_exporter": "python",
   "pygments_lexer": "ipython3",
   "version": "3.11.1"
  }
 },
 "nbformat": 4,
 "nbformat_minor": 4
}

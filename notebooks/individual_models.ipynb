{
 "cells": [
  {
   "cell_type": "code",
   "execution_count": null,
   "metadata": {},
   "outputs": [],
   "source": [
    "# setup\n",
    "import numpy as np\n",
    "import matplotlib\n",
    "import matplotlib.pyplot as plt\n",
    "rng = np.random.default_rng(seed=123)\n",
    "plt.rcParams['figure.figsize'] = [10, 5]"
   ]
  },
  {
   "cell_type": "markdown",
   "metadata": {},
   "source": [
    "# Individual-based models\n",
    "\n",
    "Let's start with a simple model of the size of population of organisms.\n",
    "We'll ignore sex (so, suppose these are hermaphroditic).\n",
    "\n",
    "## Population growth\n",
    "\n",
    "Each year, each individual will\n",
    "\n",
    "1. maybe reproduce, and then\n",
    "2. maybe die.\n",
    "\n",
    "To make a *model* we need to decide exactly how those steps happen.\n",
    "How about:\n",
    "\n",
    "1. Each individual produces a random, Poisson number of offspring, with mean $\\lambda$, and then\n",
    "2. survives with probability $p$ (or else, dies).\n",
    "3. Every individual does this *independently* of everyone else.\n"
   ]
  },
  {
   "cell_type": "code",
   "execution_count": null,
   "metadata": {
    "tags": []
   },
   "outputs": [],
   "source": [
    "def exp_gen(N, lam, p):\n",
    "    \"\"\"\n",
    "    N: current number of individuals\n",
    "    lam: mean number of offspring per capita\n",
    "    p: probability of survival per capita\n",
    "    Returns: the number of individuals in the next time step\n",
    "    \"\"\"\n",
    "    births = rng.poisson(lam, N)\n",
    "    survivors = (rng.uniform(size=N) < p)\n",
    "    return sum(births) + sum(survivors)\n",
    "\n",
    "# run five simulations\n",
    "N = np.full((30,5), -1, dtype='int')\n",
    "N[0, :] = 1\n",
    "for t in range(1, len(N)):\n",
    "    for k in range(N.shape[1]):\n",
    "        N[t, k] = exp_gen(N[t-1, k], \n",
    "                          lam=0.5, # mean offspring / year\n",
    "                          p=0.75) # mean lifetime is 1/(1-p)\n",
    "\n",
    "assert(np.min(N) >= 0)\n",
    "\n",
    "fig, ax = plt.subplots()\n",
    "ax.plot(N)\n",
    "ax.set_xlabel(\"time\")\n",
    "ax.set_ylabel(\"pop size\")\n",
    "ax.set_title(\"Exponential growth\");\n",
    "# ax.set_yscale(\"log\")"
   ]
  },
  {
   "cell_type": "markdown",
   "metadata": {},
   "source": [
    "# Homework 1: probability of survival\n",
    "\n",
    "Use the above code\n",
    "to estimate the *probability of survival* of a population initiated by a single individual\n",
    "by running a bunch of simulations, each starting from size 1,\n",
    "and counting the proportion of them that make it to some moderate size.\n",
    "Make a plot of this probability against $\\lambda$, with $p = 0.75$."
   ]
  },
  {
   "cell_type": "markdown",
   "metadata": {},
   "source": [
    "## Population regulation\n",
    "\n",
    "Those populations grew exponentially, if they didn't die out.\n",
    "What if we want a *stable* population?\n",
    "Let's say that there's \"room\" for around $K$ individuals, total,\n",
    "and so that each new individual finds \"space\" to live with probability $1 - N/K$\n",
    "when there's $N$ adults present.\n",
    "So, \n",
    "1. Each individual produces a random, Poisson number of offspring, with mean $\\lambda$, and then\n",
    "2. each adult survives with probability $p$ (or else, dies), while\n",
    "3. each new offspring survives with probability $1-N/K$, if the number of adults was $N$.\n",
    "4. Every individual does this *independently* of everything else.\n",
    "\n",
    "This is (a stochastic version of) the **logistic model** of population growth,\n",
    "with fecundity/recruitment/juvenile mortality regulation."
   ]
  },
  {
   "cell_type": "code",
   "execution_count": null,
   "metadata": {
    "tags": []
   },
   "outputs": [],
   "source": [
    "def logistic_generation(N, lam, p, K):\n",
    "    \"\"\"\n",
    "    N: current number of individuals\n",
    "    lam: mean number of offspring per capita\n",
    "    p: probability of survival per capita\n",
    "    K: carrying capacity (total amount of spaces for individuals)\n",
    "    Returns: the number of individuals in the next time step\n",
    "    \"\"\"\n",
    "    births = rng.poisson(lam, N)\n",
    "    survivors = (rng.uniform(size=N) < p)\n",
    "    num_survivors = sum(survivors)\n",
    "    surviving_births = (rng.uniform(size=sum(births)) < 1 - N/K)\n",
    "    return num_survivors + sum(surviving_births)\n",
    "\n",
    "# run five simulations\n",
    "N = np.full((200, 5), -1, dtype='int')\n",
    "N[0, :] = 10\n",
    "for t in range(1, len(N)):\n",
    "    for k in range(N.shape[1]):\n",
    "        N[t, k] = logistic_generation(N[t-1, k], lam=2, p=0.5, K=100)\n",
    "\n",
    "\n",
    "assert(np.min(N) >= 0)\n",
    "\n",
    "fig, ax = plt.subplots()\n",
    "ax.plot(N)\n",
    "ax.set_xlabel(\"time\")\n",
    "ax.set_ylabel(\"pop size\")\n",
    "ax.set_title(\"Logistic growth\")"
   ]
  },
  {
   "cell_type": "markdown",
   "metadata": {},
   "source": [
    "# Math: it works\n",
    "\n",
    "Now we'll see how our math-based predictions match the \"reality\" of our simulations."
   ]
  },
  {
   "cell_type": "markdown",
   "metadata": {},
   "source": [
    "### Speeding this up with probability\n",
    "\n",
    "But first, let's speed up the code a bit, so we can simulate larger populations,\n",
    "using properties of probability distributions.\n",
    "\n",
    "Above we did `sum(rng.uniform(0, 1, N) < p)` to find the number of survivors:\n",
    "all `N` individuals flip `p`-coins to decide if they live or not.\n",
    "Why, that's just the Binomial($N$, $p$) distribution!\n",
    "So, we could have just done `rng.binomial(N, p, 1)`.\n",
    "\n",
    "Also, we did `sum(rng.poisson(lam, N))`.\n",
    "But, what about **additivity of Poissons**?\n",
    "If $X_1, \\ldots, X_n$ are all Poisson random variables,\n",
    "with means $\\lambda_1, \\ldots, \\lambda_n$ respectively,\n",
    "then $X_1 + \\cdots X_n$ is *also* Poisson, with mean $\\lambda_1 + \\cdots + \\lambda_n$.\n",
    "That means we could have done `rng.poisson(N * lam, 1)` instead.\n",
    "\n",
    "Finally, we will be producing a Poisson number of offspring,\n",
    "then each one flips a coin to decide whether to survive.\n",
    "By the **Poisson thinning** property, the resulting random number is *again* Poisson distributed.\n",
    "In other words, if $N$ is Poisson($\\lambda$) and $M$ is Binomial($N$, $q$) given $N$,\n",
    "then $M$ is Poisson($\\lambda q$).\n",
    "\n",
    "We'll also *vectorize* this, to do many simulations at once."
   ]
  },
  {
   "cell_type": "code",
   "execution_count": null,
   "metadata": {},
   "outputs": [],
   "source": [
    "def logistic_gen(N, lam, p, K):\n",
    "    # N can be a vector of current simulation states\n",
    "    num_survivors = rng.binomial(N, p, len(N))\n",
    "    return (rng.poisson(lam * N * np.fmax(0, 1 - N / K), len(N)) \n",
    "            + num_survivors)"
   ]
  },
  {
   "cell_type": "code",
   "execution_count": null,
   "metadata": {},
   "outputs": [],
   "source": [
    "logistic_gen(N=np.array([10, 20, 30, 40, 50]), lam=2, p=0.5, K=20)"
   ]
  },
  {
   "cell_type": "markdown",
   "metadata": {},
   "source": [
    "### It's equation time\n",
    "\n",
    "What we're seeing can be thought of as a combination of two things:\n",
    "a deterministic trend, with randomness on top.\n",
    "To describe this, we will work out the *mean* and *variance* of the population size at the next time step,\n",
    "as a function of the current population size:\n",
    "$$\\begin{aligned}\n",
    "  \\mathbb{E}[N_{t+1} | N_t = n] &= F(n) \\\\\n",
    "  \\text{Var}[N_{t+1} | N_t = n] &= V(n) .\n",
    "\\end{aligned}$$\n",
    "\n",
    "Suppose that the current population size is $N_t = n$.\n",
    "Given this, what's the mean and variance of $N_{t+1}$?\n",
    "Well, if $S$ is the number of survivors, and $T$ is the number of offspring,\n",
    "then $N_{t+1} = S + T$, and\n",
    "$$\\begin{aligned}\n",
    "  T &\\sim \\text{Poisson}(\\lambda n (1-n/K)) \\\\\n",
    "  S &\\sim \\text{Binomial}(n, p) .\n",
    "\\end{aligned}$$\n",
    "(The distribution for $T$ follows from the *additivity* and *thinning* properties\n",
    "of the Poisson distribution, above.)\n",
    "These have mean and variance\n",
    "$$\\begin{aligned}\n",
    "   \\mathbb{E}[T] = \\text{Var}[T] = \\lambda n (1-n/K) \\\\\n",
    "   \\mathbb{E}[S] = np \n",
    "   \\qquad \\text{Var}[S] = np(1-p) .\n",
    "\\end{aligned}$$\n",
    "\n",
    "Putting this together, we have that\n",
    "$$\\begin{aligned}\n",
    "  F(n) &= n \\left( p + \\lambda \\left(1 - \\frac{n}{K}\\right)\\right) \\\\\n",
    "       &= n + n \\left( p + \\lambda - 1 - \\frac{\\lambda n}{K}\\right) \\\\\n",
    "  V(n) &= n \\left( p (1-p) + \\lambda  \\left(1 - \\frac{n}{K}\\right) \\right) \\\\\n",
    "       &= F(n) - n p^2 .\n",
    "\\end{aligned}$$\n"
   ]
  },
  {
   "cell_type": "markdown",
   "metadata": {},
   "source": [
    "### The equilibrium\n",
    "\n",
    "If $F(n_*) = n_*$, then the expected size of a population\n",
    "in the next generation that starts with $n_*$ individuals is *unchanged*.\n",
    "If not for randomness, a population starting with $n_*$ individuals would stay at that size forever.\n",
    "To find if such a population size exists, and if so, what it is,\n",
    "we solve\n",
    "$$\n",
    "  F(n_*) - n_* = n_* \\left( p + \\lambda - 1 - \\frac{\\lambda n_*}{K} \\right) = 0 .\n",
    "$$\n",
    "This has two solutions, zero and $n_* = K (\\lambda + p - 1)/\\lambda$.\n",
    "If this second solution is positive, then there's a *positive equilibrium* value."
   ]
  },
  {
   "cell_type": "code",
   "execution_count": null,
   "metadata": {},
   "outputs": [],
   "source": [
    "def logistic_equil(lam, p, K):\n",
    "    # return predicted equilibrium\n",
    "    return K * (lam + p - 1) / lam"
   ]
  },
  {
   "cell_type": "code",
   "execution_count": null,
   "metadata": {},
   "outputs": [],
   "source": [
    "logistic_equil(2, 0.5, 100)"
   ]
  },
  {
   "cell_type": "markdown",
   "metadata": {},
   "source": [
    "### Time to generalize\n",
    "\n",
    "And, to save on typing, here's code to \"record a bunch of simulations in the columns of an array\"."
   ]
  },
  {
   "cell_type": "code",
   "execution_count": null,
   "metadata": {},
   "outputs": [],
   "source": [
    "def run_sim(N0, gen_fn, ngens, dtype='int', **kwargs):\n",
    "    N = np.empty((ngens, len(N0)), dtype=dtype)\n",
    "    N[0, :] = N0\n",
    "    for t in range(1, ngens):\n",
    "        N[t, :] = gen_fn(N[t-1, :], **kwargs)\n",
    "    return N"
   ]
  },
  {
   "cell_type": "markdown",
   "metadata": {},
   "source": [
    "## Lots of simulations\n",
    "\n",
    "Ok, **finally** let's run the simulations,\n",
    "now with our theoretically predicted equilibrium size on top."
   ]
  },
  {
   "cell_type": "code",
   "execution_count": null,
   "metadata": {},
   "outputs": [],
   "source": [
    "params = {\n",
    "    'lam' : 0.5,\n",
    "    'p' : 0.81,\n",
    "    'K' : 100,\n",
    "}\n",
    "\n",
    "N = run_sim(np.repeat(1, 100), gen_fn=logistic_gen, ngens=500, \n",
    "            **params)\n",
    "\n",
    "fig, ax = plt.subplots()\n",
    "ax.plot(N)\n",
    "ax.axhline(y=logistic_equil(**params))\n",
    "ax.set_xlabel(\"time\")\n",
    "ax.set_ylabel(\"pop size\")\n",
    "ax.set_title(\"Logistic growth\")\n"
   ]
  },
  {
   "cell_type": "markdown",
   "metadata": {},
   "source": [
    "### Noise?\n",
    "\n",
    "\n",
    "Notice above that the variance of the next time step is \n",
    "proportional to the the number of deaths plus the number of births.\n",
    "This means the standard deviation is proportional to the square root of this.\n",
    "Suppose that in a population of size $N$ there are $R$ births plus deaths.\n",
    "This means that roughly a proportion $R/2N$ of the population is getting replaced each time step.\n",
    "At the next time step, we expect the population to be of size $F(N)$ plus or minus\n",
    "some \"noise\" of size $\\sqrt{R}$. Since $R$ can't be much bigger than $N$,\n",
    "$\\sqrt{R}/N$, the size of the noise relative to the population, is of order $1/\\sqrt{N}$.\n",
    "\n",
    "This means that we expect the step-to-step contribution of noise\n",
    "to be smaller in bigger populations.\n",
    "\n",
    "We can see that in the plot above: the population is roughly of size $N=100$,\n",
    "and the fluctuations about the average are of order 10."
   ]
  },
  {
   "cell_type": "markdown",
   "metadata": {},
   "source": [
    "# Homework 2:\n",
    "\n",
    "The **Ricker model** replaces $1 - N/K$ with $\\exp(-N/K)$.\n",
    "How similar is it? Simulate from it, solve for the equilibrium population size with math, and check your answer with simulations.\n"
   ]
  },
  {
   "cell_type": "markdown",
   "metadata": {},
   "source": [
    "# Logistic cobwebs\n",
    "\n",
    "Now let's look more at the function $n \\mapsto F(n)$.\n",
    "We can do this the \"math-free\" way by just plotting the population size\n",
    "after one time step of the simulation\n",
    "starting from a grid of possible initial sizes.\n",
    "The diagonal red line is where $F(n) = n$, i.e.: equilibrium!"
   ]
  },
  {
   "cell_type": "code",
   "execution_count": null,
   "metadata": {},
   "outputs": [],
   "source": [
    "X = np.arange(250)\n",
    "Y = logistic_gen(X, lam=0.5, p=0.95, K=200)\n",
    "\n",
    "plt.plot(X, Y)\n",
    "plt.plot([0.0, 250], [0.0, 250])\n",
    "plt.xlabel(\"N(t)\")\n",
    "plt.ylabel(\"N(t+1)\")\n",
    "plt.show()"
   ]
  },
  {
   "cell_type": "markdown",
   "metadata": {},
   "source": [
    "That's hard to see! Let's look at $n \\mapsto (F(n) - n)$ instead.\n",
    "The horizontal line is where $F(n) - n = 0$, again: equilibrium!"
   ]
  },
  {
   "cell_type": "code",
   "execution_count": null,
   "metadata": {},
   "outputs": [],
   "source": [
    "plt.plot(X, Y-X)\n",
    "plt.axhline(0.0)\n",
    "plt.axvline(x=logistic_equil(lam=0.5, p=0.95, K=200), color='r')\n",
    "plt.xlabel(\"N(t)\")\n",
    "plt.ylabel(\"N(t+1) - N(t)\")\n",
    "plt.show()"
   ]
  },
  {
   "cell_type": "markdown",
   "metadata": {},
   "source": [
    "### New parameters\n",
    "\n",
    "Now let's spice things up by changing the parameters to\n",
    "$$\\begin{aligned}\n",
    " \\lambda &= 5 \\\\\n",
    " p &= 0.25 \\\\\n",
    " K &= 200\n",
    "\\end{aligned}$$"
   ]
  },
  {
   "cell_type": "code",
   "execution_count": null,
   "metadata": {},
   "outputs": [],
   "source": [
    "params = {\n",
    "    \"lam\" : 2.5,\n",
    "    \"p\" : 0.25,\n",
    "    \"K\" : 200\n",
    "}\n",
    "\n",
    "N = run_sim(np.repeat(370, 20), gen_fn=logistic_gen, ngens=10,\n",
    "            **params)\n",
    "equil = logistic_equil(**params)\n",
    "    \n",
    "plt.plot(N, label='logistic growth')\n",
    "plt.axhline(y=equil)\n",
    "plt.xlabel(\"time\")\n",
    "plt.ylabel(\"pop size\")\n",
    "plt.show()"
   ]
  },
  {
   "cell_type": "markdown",
   "metadata": {},
   "source": [
    "Wow, what happened? The population is **oscillating**.\n",
    "Let's look at $F(n)$ to understand."
   ]
  },
  {
   "cell_type": "code",
   "execution_count": null,
   "metadata": {},
   "outputs": [],
   "source": [
    "X = np.fromiter(range(1000), dtype='int')\n",
    "Y = logistic_gen(X, lam=5., p=0.25, K=200)\n",
    "\n",
    "fig, ax = plt.subplots()\n",
    "ax.plot(X, Y)\n",
    "ax.plot([0.0, 1000], [0.0, 1000])\n",
    "ax.axhline(y=equil, color='m', linestyle=\"dotted\")\n",
    "ax.axvline(x=equil, color='m', linestyle=\"dotted\")\n",
    "ax.set_xlabel(\"N(t)\")\n",
    "ax.set_ylabel(\"N(t+1)\")\n",
    "plt.show()"
   ]
  },
  {
   "cell_type": "markdown",
   "metadata": {},
   "source": [
    "**Question:** What's that wierd tail?"
   ]
  },
  {
   "cell_type": "markdown",
   "metadata": {},
   "source": [
    "### The cobweb plot\n",
    "\n",
    "Using a plot of the *expected value* curve $f(n) = \\mathbb{E}[N_{t+1} | N_t = n]$,\n",
    "you can trace the expected dynamics\n",
    "as\n",
    "$$\n",
    " n \\mapsto f(n) \\mapsto f(f(n)) \\mapsto f(f(f(n))) \\mapsto \\cdots\n",
    "$$\n",
    "by \"bouncing off the diagonal\".\n",
    "\n",
    "It's easier to explain with a picture."
   ]
  },
  {
   "cell_type": "code",
   "execution_count": null,
   "metadata": {},
   "outputs": [],
   "source": [
    "def cobweb_plot(N, ax):\n",
    "    for k in range(N.shape[1]):\n",
    "        X = np.repeat(N[:, k], 2)[:-1]\n",
    "        Y = np.repeat(N[:, k], 2)[1:]\n",
    "        ax.plot(X, Y)\n",
    "\n",
    "# NOTE: run this again to get more cobwebs!\n",
    "N = run_sim(np.array([equil]), gen_fn=logistic_gen, ngens=20,\n",
    "            lam=5.0, p=0.25, K=200)     \n",
    "print(\"Population size:\", N.T)\n",
    "\n",
    "cobweb_plot(N[:, :1], ax)\n",
    "fig"
   ]
  },
  {
   "cell_type": "markdown",
   "metadata": {},
   "source": [
    "# Exercise: dizzy spiders\n",
    "\n",
    "**Fact:** If the *slope* of $F()$ (the blue curve above)\n",
    "at the *equilibrium* (the magenta dotted lines) is steeper than $-1$,\n",
    "then the equilibrium is *unstable*\n",
    "(and so the population will tend to oscillate around it).\n",
    "\n",
    "Experiment to convince yourself of this,\n",
    "draw pictures on the whiteboard with your neighbor,\n",
    "then explain why this happens."
   ]
  },
  {
   "cell_type": "code",
   "execution_count": null,
   "metadata": {},
   "outputs": [],
   "source": []
  },
  {
   "cell_type": "markdown",
   "metadata": {},
   "source": [
    "## What about noise?\n",
    "\n",
    "Above we saw that bigger populations\n",
    "had less noise (in this model anyhow).\n",
    "This says that **bigger populations** should behave more like\n",
    "solutions to the **differential equation**.\n",
    "Let's see how that holds up in our simulations."
   ]
  },
  {
   "cell_type": "code",
   "execution_count": null,
   "metadata": {},
   "outputs": [],
   "source": [
    "for K in [200, 2000, 20000]:\n",
    "    print(K)\n",
    "    N = run_sim(np.array([0.6, 0.8, 1.0, 1.2, 1.4]) * logistic_equil(lam=0.1, p=0.95, K=K), \n",
    "                gen_fn=logistic_gen, ngens=120, \n",
    "                lam=0.1, p=0.95, K=K)\n",
    "    plt.plot(N)\n",
    "    plt.axhline(y=logistic_equil(lam=0.1, p=0.95, K=K))\n",
    "    plt.xlabel(\"time\")\n",
    "    plt.ylabel(\"pop size\")\n",
    "    plt.title(\"K={}\".format(K))\n",
    "    plt.show()"
   ]
  },
  {
   "cell_type": "markdown",
   "metadata": {},
   "source": [
    "# Oscillations, and Chaos\n",
    "\n",
    "It would be a crime to talk about the logistic equation\n",
    "and not see period doubling, and chaos.\n",
    "A nice review of complicated behavior in simple models is [May 1976](http://abel.harvard.edu/archive/118r_spring_05/docs/may.pdf).\n",
    "In this section we'll just work with the determinstic model\n",
    "(remember that $r = \\lambda + p -1$\n",
    "and we'll switch out $K$ for $n_* = K r / \\lambda$, to be consistent with the literature)."
   ]
  },
  {
   "cell_type": "code",
   "execution_count": null,
   "metadata": {},
   "outputs": [],
   "source": [
    "def logistic_step(N, r, C):\n",
    "    return N + r * N * (1 - N / C)"
   ]
  },
  {
   "cell_type": "code",
   "execution_count": null,
   "metadata": {},
   "outputs": [],
   "source": [
    "N = run_sim([80], gen_fn=logistic_step, dtype='float',\n",
    "            ngens=50, r=1.1, C=100)\n",
    "\n",
    "plt.plot(range(N.shape[0]), N, linestyle=\"dotted\")\n",
    "plt.scatter(range(N.shape[0]), N)\n",
    "plt.xlabel(\"time\")\n",
    "plt.ylabel(\"pop size\")\n",
    "plt.show()"
   ]
  },
  {
   "cell_type": "markdown",
   "metadata": {},
   "source": [
    "To see if the model approaches a stable, *oscillating* equilibrium,\n",
    "we can (a) iterate the model for a while,\n",
    "and then see if the values repeat.\n",
    "For instance, at $r=2.1$ there's a period-2 loop:"
   ]
  },
  {
   "cell_type": "code",
   "execution_count": null,
   "metadata": {},
   "outputs": [],
   "source": [
    "N = run_sim([60], gen_fn=logistic_step, dtype='float',\n",
    "            ngens=50, r=2.1, C=100)\n",
    "\n",
    "plt.plot(range(N.shape[0]), N, linestyle=\"dotted\")\n",
    "plt.scatter(range(N.shape[0]), N)\n",
    "plt.xlabel(\"time\")\n",
    "plt.ylabel(\"pop size\")\n",
    "plt.show()"
   ]
  },
  {
   "cell_type": "markdown",
   "metadata": {},
   "source": [
    "Here's another example (at $r=2.5$, with period 4):"
   ]
  },
  {
   "cell_type": "code",
   "execution_count": null,
   "metadata": {},
   "outputs": [],
   "source": [
    "N = run_sim([10], gen_fn=logistic_step, dtype='float',\n",
    "            ngens=100, r=2.5, C=100)\n",
    "\n",
    "plt.plot(range(N.shape[0]), N, linestyle=\"dotted\")\n",
    "plt.scatter(range(N.shape[0]), N)\n",
    "plt.xlabel(\"time\")\n",
    "plt.ylabel(\"pop size\")\n",
    "plt.show()"
   ]
  },
  {
   "cell_type": "markdown",
   "metadata": {},
   "source": [
    "... and, what's going on here???"
   ]
  },
  {
   "cell_type": "code",
   "execution_count": null,
   "metadata": {},
   "outputs": [],
   "source": [
    "N = run_sim([10], gen_fn=logistic_step, dtype='float',\n",
    "            ngens=100, r=2.9, C=100)\n",
    "\n",
    "plt.plot(range(N.shape[0]), N, linestyle=\"dotted\")\n",
    "plt.scatter(range(N.shape[0]), N)\n",
    "plt.xlabel(\"time\")\n",
    "plt.ylabel(\"pop size\")\n",
    "plt.show()"
   ]
  },
  {
   "cell_type": "markdown",
   "metadata": {},
   "source": [
    "Ok, now let's see how that behaves as we change $r$.\n",
    "To save space, we'll (a) cut out the first bunch of steps of each simulation,\n",
    "and (b) plot the values of $N_t$ against their respective values of $r$\n",
    "(so the first plot above would be compressed to just two points, at about 82 and 111, above $r=2.1$."
   ]
  },
  {
   "cell_type": "code",
   "execution_count": null,
   "metadata": {},
   "outputs": [],
   "source": [
    "rvals = np.linspace(1.5, 3.0, num=400)\n",
    "N = run_sim(np.repeat(10.0, len(rvals)), gen_fn=logistic_step,\n",
    "            dtype='float', ngens=200, r=rvals, C=100)\n",
    "\n",
    "plot_gens = 20\n",
    "plt.scatter(np.row_stack([rvals]*plot_gens), N[-plot_gens:,:],\n",
    "            marker='.')\n",
    "plt.show()"
   ]
  },
  {
   "cell_type": "markdown",
   "metadata": {},
   "source": [
    "The first \"period doubling\", where the single stable cycle becomes unstable,\n",
    "occurs at $r=\\sqrt{6}$.\n",
    "The period doubles again, followed soon by the onset of chaos."
   ]
  },
  {
   "cell_type": "markdown",
   "metadata": {},
   "source": [
    "# Homework 3\n",
    "\n",
    "Here is another \"logistic\" model.\n",
    "Suppose that everyone dies every time step,\n",
    "and that large populations deplete the amount of resources left for the next generation.\n",
    "The net effect is that the mean fecundity of an individual\n",
    "in a population of size $N$ is $1 + r - N/\\beta$,\n",
    "so that $1+r$ is the mean fecundity in the presence of lots of resources,\n",
    "but that mean fecundity decreases by $1/\\beta$ for each additional neighbor.\n",
    "Implement a simulation of this process (using Poisson offspring and Poisson additivity),\n",
    "and plot how it evolves.\n",
    "Write down and solve the equations to find its equilibrium in terms of $r$ and $\\beta$.\n",
    "\n",
    "*Bonus:* We can't see chaos in our simulations above because of the `max(0.0, 1-N/K)` term.\n",
    "We *can* see it in this model. Find parameter values with (a) a bistable cycle and (b) chaos."
   ]
  }
 ],
 "metadata": {
  "kernelspec": {
   "display_name": "Python 3 (ipykernel)",
   "language": "python",
   "name": "python3"
  },
  "language_info": {
   "codemirror_mode": {
    "name": "ipython",
    "version": 3
   },
   "file_extension": ".py",
   "mimetype": "text/x-python",
   "name": "python",
   "nbconvert_exporter": "python",
   "pygments_lexer": "ipython3",
   "version": "3.11.1"
  }
 },
 "nbformat": 4,
 "nbformat_minor": 4
}
